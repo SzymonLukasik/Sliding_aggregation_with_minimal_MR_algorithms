{
  "cells": [
    {
      "cell_type": "markdown",
      "metadata": {
        "id": "6bDfSbz1Mzlg"
      },
      "source": [
        "# Big programming assignment 1 - Sliding aggregation on NYC taxi data\n"
      ]
    },
    {
      "cell_type": "markdown",
      "metadata": {
        "id": "qdrOqKrbbWEi"
      },
      "source": [
        "## Configuring Spark"
      ]
    },
    {
      "cell_type": "code",
      "execution_count": null,
      "metadata": {
        "id": "sxqy7fQ2Zn_u"
      },
      "outputs": [],
      "source": [
        "!pip install pyspark --quiet\n",
        "!pip install -U -q PyDrive --quiet \n",
        "!apt install openjdk-8-jdk-headless &> /dev/null"
      ]
    },
    {
      "cell_type": "code",
      "execution_count": null,
      "metadata": {
        "id": "hvP2cvhBb-gi"
      },
      "outputs": [],
      "source": [
        "import os\n",
        "os.environ[\"JAVA_HOME\"] = \"/usr/lib/jvm/java-8-openjdk-amd64\""
      ]
    },
    {
      "cell_type": "code",
      "execution_count": null,
      "metadata": {
        "id": "osH48efqgU0j",
        "colab": {
          "base_uri": "https://localhost:8080/"
        },
        "outputId": "8dfd7ce1-8099-483a-b14a-fc4540b85ad6"
      },
      "outputs": [
        {
          "output_type": "stream",
          "name": "stdout",
          "text": [
            "Architecture:                    x86_64\n",
            "CPU op-mode(s):                  32-bit, 64-bit\n",
            "Byte Order:                      Little Endian\n",
            "Address sizes:                   48 bits physical, 48 bits virtual\n",
            "CPU(s):                          2\n",
            "On-line CPU(s) list:             0,1\n",
            "Thread(s) per core:              2\n",
            "Core(s) per socket:              1\n",
            "Socket(s):                       1\n",
            "NUMA node(s):                    1\n",
            "Vendor ID:                       AuthenticAMD\n",
            "CPU family:                      23\n",
            "Model:                           49\n",
            "Model name:                      AMD EPYC 7B12\n",
            "Stepping:                        0\n",
            "CPU MHz:                         2249.998\n",
            "BogoMIPS:                        4499.99\n",
            "Hypervisor vendor:               KVM\n",
            "Virtualization type:             full\n",
            "L1d cache:                       32 KiB\n",
            "L1i cache:                       32 KiB\n",
            "L2 cache:                        512 KiB\n",
            "L3 cache:                        16 MiB\n",
            "NUMA node0 CPU(s):               0,1\n",
            "Vulnerability Itlb multihit:     Not affected\n",
            "Vulnerability L1tf:              Not affected\n",
            "Vulnerability Mds:               Not affected\n",
            "Vulnerability Meltdown:          Not affected\n",
            "Vulnerability Mmio stale data:   Not affected\n",
            "Vulnerability Retbleed:          Vulnerable\n",
            "Vulnerability Spec store bypass: Vulnerable\n",
            "Vulnerability Spectre v1:        Vulnerable: __user pointer sanitization and use\n",
            "                                 rcopy barriers only; no swapgs barriers\n",
            "Vulnerability Spectre v2:        Vulnerable, IBPB: disabled, STIBP: disabled, PB\n",
            "                                 RSB-eIBRS: Not affected\n",
            "Vulnerability Srbds:             Not affected\n",
            "Vulnerability Tsx async abort:   Not affected\n",
            "Flags:                           fpu vme de pse tsc msr pae mce cx8 apic sep mtr\n",
            "                                 r pge mca cmov pat pse36 clflush mmx fxsr sse s\n",
            "                                 se2 ht syscall nx mmxext fxsr_opt pdpe1gb rdtsc\n",
            "                                 p lm constant_tsc rep_good nopl nonstop_tsc cpu\n",
            "                                 id extd_apicid tsc_known_freq pni pclmulqdq sss\n",
            "                                 e3 fma cx16 sse4_1 sse4_2 movbe popcnt aes xsav\n",
            "                                 e avx f16c rdrand hypervisor lahf_lm cmp_legacy\n",
            "                                  cr8_legacy abm sse4a misalignsse 3dnowprefetch\n",
            "                                  osvw topoext ssbd ibrs ibpb stibp vmmcall fsgs\n",
            "                                 base tsc_adjust bmi1 avx2 smep bmi2 rdseed adx \n",
            "                                 smap clflushopt clwb sha_ni xsaveopt xsavec xge\n",
            "                                 tbv1 clzero xsaveerptr arat npt nrip_save umip \n",
            "                                 rdpid\n"
          ]
        }
      ],
      "source": [
        "!lscpu"
      ]
    },
    {
      "cell_type": "markdown",
      "metadata": {
        "id": "J8UnMO31qWn-"
      },
      "source": [
        "### Creating Spark Session"
      ]
    },
    {
      "cell_type": "markdown",
      "metadata": {
        "id": "HXXJbVRTqSk9"
      },
      "source": [
        "This time, rather than `SparkContext`, we will be using `SparkSession`. It is a wrapper around `SparkContext`, but also adds extra functionality and higher level API."
      ]
    },
    {
      "cell_type": "code",
      "execution_count": null,
      "metadata": {
        "id": "xOlraquAqQyd"
      },
      "outputs": [],
      "source": [
        "import pyspark\n",
        "from pyspark.sql import SparkSession\n",
        "spark = SparkSession.builder \\\n",
        "                    .master(\"local[*]\") \\\n",
        "                    .config(\"spark.executor.memory\", \"4g\") \\\n",
        "                    .config(\"spark.driver.memory\", \"1g\") \\\n",
        "                    .appName(\"mlibs\") \\\n",
        "                    .getOrCreate()"
      ]
    },
    {
      "cell_type": "markdown",
      "metadata": {
        "id": "LH9jpvaRFD7Q"
      },
      "source": [
        "We can also get `SparkContext` from `SparkSession` and use it to access RDD API."
      ]
    },
    {
      "cell_type": "code",
      "execution_count": null,
      "metadata": {
        "id": "2mMPtRnyE78U"
      },
      "outputs": [],
      "source": [
        "from pyspark import SparkContext\n",
        "sc = spark.sparkContext"
      ]
    },
    {
      "cell_type": "markdown",
      "metadata": {
        "id": "fC4mnbWTYtkH"
      },
      "source": [
        "Note: pyspark documentation can be found [here](https://spark.apache.org/docs/3.1.2/api/python/reference/index.html). For example: list of `SparkContext` methods is [here](https://spark.apache.org/docs/3.1.2/api/python/reference/pyspark.html#spark-context-apis) and list of `SparkSession` methods is [here](https://spark.apache.org/docs/3.1.2/api/python/reference/api/pyspark.sql.SparkSession.html#pyspark.sql.SparkSession).\n"
      ]
    },
    {
      "cell_type": "markdown",
      "metadata": {
        "id": "Gvh8i7sSi6kI"
      },
      "source": [
        "The following code allows us to inspect all the configuration. More about available configuration options and their default values can be found in [the documentation](https://spark.apache.org/docs/latest/configuration.html)."
      ]
    },
    {
      "cell_type": "code",
      "execution_count": null,
      "metadata": {
        "colab": {
          "base_uri": "https://localhost:8080/"
        },
        "id": "MOIFjnupivar",
        "outputId": "b186f169-79cd-45c8-988c-aef3c1a23899"
      },
      "outputs": [
        {
          "output_type": "execute_result",
          "data": {
            "text/plain": [
              "[('spark.driver.host', 'f52ddef0b9e0'),\n",
              " ('spark.executor.memory', '4g'),\n",
              " ('spark.executor.id', 'driver'),\n",
              " ('spark.app.id', 'local-1685357561405'),\n",
              " ('spark.driver.memory', '1g'),\n",
              " ('spark.driver.extraJavaOptions',\n",
              "  '-Djava.net.preferIPv6Addresses=false -XX:+IgnoreUnrecognizedVMOptions --add-opens=java.base/java.lang=ALL-UNNAMED --add-opens=java.base/java.lang.invoke=ALL-UNNAMED --add-opens=java.base/java.lang.reflect=ALL-UNNAMED --add-opens=java.base/java.io=ALL-UNNAMED --add-opens=java.base/java.net=ALL-UNNAMED --add-opens=java.base/java.nio=ALL-UNNAMED --add-opens=java.base/java.util=ALL-UNNAMED --add-opens=java.base/java.util.concurrent=ALL-UNNAMED --add-opens=java.base/java.util.concurrent.atomic=ALL-UNNAMED --add-opens=java.base/sun.nio.ch=ALL-UNNAMED --add-opens=java.base/sun.nio.cs=ALL-UNNAMED --add-opens=java.base/sun.security.action=ALL-UNNAMED --add-opens=java.base/sun.util.calendar=ALL-UNNAMED --add-opens=java.security.jgss/sun.security.krb5=ALL-UNNAMED -Djdk.reflect.useDirectMethodHandle=false'),\n",
              " ('spark.app.startTime', '1685357559824'),\n",
              " ('spark.rdd.compress', 'True'),\n",
              " ('spark.app.name', 'mlibs'),\n",
              " ('spark.driver.port', '43525'),\n",
              " ('spark.serializer.objectStreamReset', '100'),\n",
              " ('spark.master', 'local[*]'),\n",
              " ('spark.submit.pyFiles', ''),\n",
              " ('spark.submit.deployMode', 'client'),\n",
              " ('spark.ui.showConsoleProgress', 'true'),\n",
              " ('spark.executor.extraJavaOptions',\n",
              "  '-Djava.net.preferIPv6Addresses=false -XX:+IgnoreUnrecognizedVMOptions --add-opens=java.base/java.lang=ALL-UNNAMED --add-opens=java.base/java.lang.invoke=ALL-UNNAMED --add-opens=java.base/java.lang.reflect=ALL-UNNAMED --add-opens=java.base/java.io=ALL-UNNAMED --add-opens=java.base/java.net=ALL-UNNAMED --add-opens=java.base/java.nio=ALL-UNNAMED --add-opens=java.base/java.util=ALL-UNNAMED --add-opens=java.base/java.util.concurrent=ALL-UNNAMED --add-opens=java.base/java.util.concurrent.atomic=ALL-UNNAMED --add-opens=java.base/sun.nio.ch=ALL-UNNAMED --add-opens=java.base/sun.nio.cs=ALL-UNNAMED --add-opens=java.base/sun.security.action=ALL-UNNAMED --add-opens=java.base/sun.util.calendar=ALL-UNNAMED --add-opens=java.security.jgss/sun.security.krb5=ALL-UNNAMED -Djdk.reflect.useDirectMethodHandle=false'),\n",
              " ('spark.app.submitTime', '1685357559630')]"
            ]
          },
          "metadata": {},
          "execution_count": 6
        }
      ],
      "source": [
        "spark.sparkContext.getConf().getAll()"
      ]
    },
    {
      "cell_type": "markdown",
      "metadata": {
        "id": "_2uxv_pONDpV"
      },
      "source": [
        "## Download data"
      ]
    },
    {
      "cell_type": "code",
      "execution_count": null,
      "metadata": {
        "colab": {
          "base_uri": "https://localhost:8080/"
        },
        "id": "SnKh6FNYNCOG",
        "outputId": "042e20fa-11f1-4572-dd25-bf428638ac00"
      },
      "outputs": [
        {
          "output_type": "stream",
          "name": "stdout",
          "text": [
            "mkdir: cannot create directory ‘data’: File exists\n",
            "--2023-05-29 10:52:42--  https://d37ci6vzurychx.cloudfront.net/trip-data/yellow_tripdata_2022-01.parquet\n",
            "Resolving d37ci6vzurychx.cloudfront.net (d37ci6vzurychx.cloudfront.net)... 13.249.90.174, 13.249.90.176, 13.249.90.209, ...\n",
            "Connecting to d37ci6vzurychx.cloudfront.net (d37ci6vzurychx.cloudfront.net)|13.249.90.174|:443... connected.\n",
            "HTTP request sent, awaiting response... 200 OK\n",
            "Length: 38139949 (36M) [application/x-www-form-urlencoded]\n",
            "Saving to: ‘data/yellow_tripdata_2022_01.parquet’\n",
            "\n",
            "data/yellow_tripdat 100%[===================>]  36.37M  58.5MB/s    in 0.6s    \n",
            "\n",
            "2023-05-29 10:52:43 (58.5 MB/s) - ‘data/yellow_tripdata_2022_01.parquet’ saved [38139949/38139949]\n",
            "\n"
          ]
        }
      ],
      "source": [
        "!mkdir data\n",
        "\n",
        "!wget https://d37ci6vzurychx.cloudfront.net/trip-data/yellow_tripdata_2022-01.parquet -O data/yellow_tripdata_2022_01.parquet"
      ]
    },
    {
      "cell_type": "code",
      "execution_count": null,
      "metadata": {
        "colab": {
          "base_uri": "https://localhost:8080/"
        },
        "id": "SFTwB7NtVx2U",
        "outputId": "0ccc42d6-82d3-4f4d-dee9-6b7b5433e878"
      },
      "outputs": [
        {
          "output_type": "stream",
          "name": "stdout",
          "text": [
            "37M\t./data/yellow_tripdata_2022_01.parquet\n"
          ]
        }
      ],
      "source": [
        "!du -hs ./data/*\n"
      ]
    },
    {
      "cell_type": "code",
      "source": [
        "N = 100"
      ],
      "metadata": {
        "id": "979lyJ72w7FQ"
      },
      "execution_count": null,
      "outputs": []
    },
    {
      "cell_type": "code",
      "execution_count": null,
      "metadata": {
        "colab": {
          "base_uri": "https://localhost:8080/"
        },
        "id": "4mw-J9L0UdlS",
        "outputId": "31d014d5-b92a-433a-d6f8-41ed3080e9bc"
      },
      "outputs": [
        {
          "output_type": "stream",
          "name": "stdout",
          "text": [
            "root\n",
            " |-- VendorID: long (nullable = true)\n",
            " |-- tpep_pickup_datetime: timestamp_ntz (nullable = true)\n",
            " |-- tpep_dropoff_datetime: timestamp_ntz (nullable = true)\n",
            " |-- passenger_count: double (nullable = true)\n",
            " |-- trip_distance: double (nullable = true)\n",
            " |-- RatecodeID: double (nullable = true)\n",
            " |-- store_and_fwd_flag: string (nullable = true)\n",
            " |-- PULocationID: long (nullable = true)\n",
            " |-- DOLocationID: long (nullable = true)\n",
            " |-- payment_type: long (nullable = true)\n",
            " |-- fare_amount: double (nullable = true)\n",
            " |-- extra: double (nullable = true)\n",
            " |-- mta_tax: double (nullable = true)\n",
            " |-- tip_amount: double (nullable = true)\n",
            " |-- tolls_amount: double (nullable = true)\n",
            " |-- improvement_surcharge: double (nullable = true)\n",
            " |-- total_amount: double (nullable = true)\n",
            " |-- congestion_surcharge: double (nullable = true)\n",
            " |-- airport_fee: double (nullable = true)\n",
            "\n"
          ]
        }
      ],
      "source": [
        "df_org = spark.read.parquet(\"data/yellow_tripdata_2022_01.parquet\").cache()\n",
        "df_org = df_org.limit(N)\n",
        "df_org.printSchema()"
      ]
    },
    {
      "cell_type": "code",
      "execution_count": null,
      "metadata": {
        "colab": {
          "base_uri": "https://localhost:8080/"
        },
        "id": "7NZBtMF_YM9R",
        "outputId": "182176d1-e1c5-45be-8556-6b4c02b5c70d"
      },
      "outputs": [
        {
          "output_type": "execute_result",
          "data": {
            "text/plain": [
              "[Row(VendorID=1, tpep_pickup_datetime=datetime.datetime(2022, 1, 1, 0, 35, 40), tpep_dropoff_datetime=datetime.datetime(2022, 1, 1, 0, 53, 29), passenger_count=2.0, trip_distance=3.8, RatecodeID=1.0, store_and_fwd_flag='N', PULocationID=142, DOLocationID=236, payment_type=1, fare_amount=14.5, extra=3.0, mta_tax=0.5, tip_amount=3.65, tolls_amount=0.0, improvement_surcharge=0.3, total_amount=21.95, congestion_surcharge=2.5, airport_fee=0.0),\n",
              " Row(VendorID=1, tpep_pickup_datetime=datetime.datetime(2022, 1, 1, 0, 33, 43), tpep_dropoff_datetime=datetime.datetime(2022, 1, 1, 0, 42, 7), passenger_count=1.0, trip_distance=2.1, RatecodeID=1.0, store_and_fwd_flag='N', PULocationID=236, DOLocationID=42, payment_type=1, fare_amount=8.0, extra=0.5, mta_tax=0.5, tip_amount=4.0, tolls_amount=0.0, improvement_surcharge=0.3, total_amount=13.3, congestion_surcharge=0.0, airport_fee=0.0),\n",
              " Row(VendorID=2, tpep_pickup_datetime=datetime.datetime(2022, 1, 1, 0, 53, 21), tpep_dropoff_datetime=datetime.datetime(2022, 1, 1, 1, 2, 19), passenger_count=1.0, trip_distance=0.97, RatecodeID=1.0, store_and_fwd_flag='N', PULocationID=166, DOLocationID=166, payment_type=1, fare_amount=7.5, extra=0.5, mta_tax=0.5, tip_amount=1.76, tolls_amount=0.0, improvement_surcharge=0.3, total_amount=10.56, congestion_surcharge=0.0, airport_fee=0.0),\n",
              " Row(VendorID=2, tpep_pickup_datetime=datetime.datetime(2022, 1, 1, 0, 25, 21), tpep_dropoff_datetime=datetime.datetime(2022, 1, 1, 0, 35, 23), passenger_count=1.0, trip_distance=1.09, RatecodeID=1.0, store_and_fwd_flag='N', PULocationID=114, DOLocationID=68, payment_type=2, fare_amount=8.0, extra=0.5, mta_tax=0.5, tip_amount=0.0, tolls_amount=0.0, improvement_surcharge=0.3, total_amount=11.8, congestion_surcharge=2.5, airport_fee=0.0),\n",
              " Row(VendorID=2, tpep_pickup_datetime=datetime.datetime(2022, 1, 1, 0, 36, 48), tpep_dropoff_datetime=datetime.datetime(2022, 1, 1, 1, 14, 20), passenger_count=1.0, trip_distance=4.3, RatecodeID=1.0, store_and_fwd_flag='N', PULocationID=68, DOLocationID=163, payment_type=1, fare_amount=23.5, extra=0.5, mta_tax=0.5, tip_amount=3.0, tolls_amount=0.0, improvement_surcharge=0.3, total_amount=30.3, congestion_surcharge=2.5, airport_fee=0.0)]"
            ]
          },
          "metadata": {},
          "execution_count": 11
        }
      ],
      "source": [
        "df_org.head(5)"
      ]
    },
    {
      "cell_type": "markdown",
      "metadata": {
        "id": "t9qKCRZTFtSB"
      },
      "source": [
        "## Prepare data for the assignment\n"
      ]
    },
    {
      "cell_type": "code",
      "execution_count": null,
      "metadata": {
        "colab": {
          "base_uri": "https://localhost:8080/"
        },
        "id": "fwS4GGkYYNFa",
        "outputId": "a0bee018-6e92-4540-f968-4eb70e326698"
      },
      "outputs": [
        {
          "output_type": "execute_result",
          "data": {
            "text/plain": [
              "[Row(tpep_dropoff_datetime=datetime.datetime(2022, 1, 1, 0, 53, 29), tpep_pickup_datetime=datetime.datetime(2022, 1, 1, 0, 35, 40)),\n",
              " Row(tpep_dropoff_datetime=datetime.datetime(2022, 1, 1, 0, 42, 7), tpep_pickup_datetime=datetime.datetime(2022, 1, 1, 0, 33, 43)),\n",
              " Row(tpep_dropoff_datetime=datetime.datetime(2022, 1, 1, 1, 2, 19), tpep_pickup_datetime=datetime.datetime(2022, 1, 1, 0, 53, 21)),\n",
              " Row(tpep_dropoff_datetime=datetime.datetime(2022, 1, 1, 0, 35, 23), tpep_pickup_datetime=datetime.datetime(2022, 1, 1, 0, 25, 21)),\n",
              " Row(tpep_dropoff_datetime=datetime.datetime(2022, 1, 1, 1, 14, 20), tpep_pickup_datetime=datetime.datetime(2022, 1, 1, 0, 36, 48))]"
            ]
          },
          "metadata": {},
          "execution_count": 12
        }
      ],
      "source": [
        "selected_columns = [\n",
        "    'tpep_dropoff_datetime',\n",
        "    'tpep_pickup_datetime',\n",
        "]\n",
        "df = df_org.select(selected_columns)\n",
        "df.head(5)"
      ]
    },
    {
      "cell_type": "code",
      "source": [
        "org_rdd = df.rdd"
      ],
      "metadata": {
        "id": "ddVBqXTtzhi1"
      },
      "execution_count": null,
      "outputs": []
    },
    {
      "cell_type": "code",
      "execution_count": null,
      "metadata": {
        "id": "0g67QEKjOS1g"
      },
      "outputs": [],
      "source": [
        "from typing import Tuple\n",
        "from datetime import datetime\n",
        "from dataclasses import dataclass\n",
        "\n",
        "Obj = Tuple[datetime, datetime]\n",
        "\n",
        "@dataclass\n",
        "class Point:\n",
        "  obj: Obj\n",
        "\n",
        "@dataclass\n",
        "class Data(Point):\n",
        "  pass\n",
        "\n",
        "@dataclass\n",
        "class Query(Point):\n",
        "  pass\n",
        "\n",
        "@dataclass\n",
        "class Dummy(Point):\n",
        "  pass"
      ]
    },
    {
      "cell_type": "markdown",
      "source": [
        "### Add queries and label placeholder"
      ],
      "metadata": {
        "id": "9T954OMRo9qw"
      }
    },
    {
      "cell_type": "code",
      "execution_count": null,
      "metadata": {
        "colab": {
          "base_uri": "https://localhost:8080/"
        },
        "id": "FlsA-AEfJqDK",
        "outputId": "2d306266-c563-445b-f049-04ca506cb218"
      },
      "outputs": [
        {
          "output_type": "execute_result",
          "data": {
            "text/plain": [
              "[((),\n",
              "  (datetime.datetime(2022, 1, 1, 0, 53, 29),\n",
              "   datetime.datetime(2022, 1, 1, 0, 35, 40),\n",
              "   Data(obj=(datetime.datetime(2022, 1, 1, 0, 53, 29), datetime.datetime(2022, 1, 1, 0, 35, 40))))),\n",
              " ((),\n",
              "  (datetime.datetime(2022, 1, 1, 0, 53, 29),\n",
              "   datetime.datetime(2022, 1, 1, 0, 35, 40),\n",
              "   Query(obj=(datetime.datetime(2022, 1, 1, 0, 53, 29), datetime.datetime(2022, 1, 1, 0, 35, 40))))),\n",
              " ((),\n",
              "  (datetime.datetime(2022, 1, 1, 0, 42, 7),\n",
              "   datetime.datetime(2022, 1, 1, 0, 33, 43),\n",
              "   Data(obj=(datetime.datetime(2022, 1, 1, 0, 42, 7), datetime.datetime(2022, 1, 1, 0, 33, 43))))),\n",
              " ((),\n",
              "  (datetime.datetime(2022, 1, 1, 1, 2, 19),\n",
              "   datetime.datetime(2022, 1, 1, 0, 53, 21),\n",
              "   Data(obj=(datetime.datetime(2022, 1, 1, 1, 2, 19), datetime.datetime(2022, 1, 1, 0, 53, 21))))),\n",
              " ((),\n",
              "  (datetime.datetime(2022, 1, 1, 0, 35, 23),\n",
              "   datetime.datetime(2022, 1, 1, 0, 25, 21),\n",
              "   Data(obj=(datetime.datetime(2022, 1, 1, 0, 35, 23), datetime.datetime(2022, 1, 1, 0, 25, 21)))))]"
            ]
          },
          "metadata": {},
          "execution_count": 15
        }
      ],
      "source": [
        "from datetime import datetime\n",
        "from typing import Tuple, List, NewType\n",
        "from random import uniform\n",
        "\n",
        "Event = Tuple[datetime, datetime, str]\n",
        "\n",
        "ADD_QUERY_P = 0.3\n",
        "\n",
        "def add_query(x: Tuple[datetime, datetime]) -> List[Event]:\n",
        "  pickup, dropoff = x\n",
        "  res = [(pickup, dropoff, Data((pickup, dropoff)))]\n",
        "  if uniform(0, 1) <= ADD_QUERY_P:\n",
        "    res.append((pickup, dropoff, Query((pickup, dropoff))))\n",
        "  return res\n",
        "\n",
        "def add_label_placeholder(x):\n",
        "  return ((), x)\n",
        "\n",
        "rdd = org_rdd.flatMap(add_query).map(add_label_placeholder)\n",
        "\n",
        "rdd.take(5)"
      ]
    },
    {
      "cell_type": "markdown",
      "metadata": {
        "id": "urAuKKvbsn8V"
      },
      "source": [
        "#### Set artificial number of partitions if needed"
      ]
    },
    {
      "cell_type": "code",
      "execution_count": null,
      "metadata": {
        "colab": {
          "base_uri": "https://localhost:8080/"
        },
        "id": "NALanYGpsnhH",
        "outputId": "c2cfc3f1-1eb0-43db-d1ec-2702a6cc3f69"
      },
      "outputs": [
        {
          "output_type": "execute_result",
          "data": {
            "text/plain": [
              "7"
            ]
          },
          "metadata": {},
          "execution_count": 16
        }
      ],
      "source": [
        "T = 7\n",
        "rdd = rdd.repartition(T)\n",
        "rdd.getNumPartitions()"
      ]
    },
    {
      "cell_type": "markdown",
      "metadata": {
        "id": "HBSD_FMUq1mn"
      },
      "source": [
        "#### Add dummy rows if needed"
      ]
    },
    {
      "cell_type": "code",
      "execution_count": null,
      "metadata": {
        "colab": {
          "base_uri": "https://localhost:8080/"
        },
        "id": "Rm2e7wXwq3vr",
        "outputId": "44a7327c-31c0-4abb-e28b-33827f6fbde2"
      },
      "outputs": [
        {
          "output_type": "stream",
          "name": "stdout",
          "text": [
            "RDD containing 127 rows.\n",
            "Adding 6 dummy rows\n"
          ]
        }
      ],
      "source": [
        "from datetime import datetime\n",
        "\n",
        "def add_dummy_rows(rdd):\n",
        "  global N, T, M\n",
        "  N = rdd.count()\n",
        "  print(f\"RDD containing {N} rows.\")\n",
        "  if N % T != 0:\n",
        "    old_rdd = rdd\n",
        "    n_dummies = T - (N % T)\n",
        "    print(f\"Adding {n_dummies} dummy rows\")\n",
        "    dummies = [\n",
        "        ((), (datetime.max, datetime.max, Dummy((datetime.max, datetime.max))))\n",
        "        for _ in range(n_dummies)\n",
        "    ]\n",
        "    dummies_rdd = sc.parallelize(dummies)\n",
        "    rdd = rdd.union(dummies_rdd)\n",
        "    rdd = rdd.repartition(T)\n",
        "    N = rdd.count()\n",
        "    M = N / T\n",
        "  return rdd\n",
        "\n",
        "rdd = add_dummy_rows(rdd)"
      ]
    },
    {
      "cell_type": "code",
      "execution_count": null,
      "metadata": {
        "id": "P_tpQR-AIVhp"
      },
      "outputs": [],
      "source": [
        "N = rdd.count()\n",
        "M = N / T"
      ]
    },
    {
      "cell_type": "markdown",
      "metadata": {
        "id": "lPJDzvolQFkx"
      },
      "source": [
        "## TeraSort"
      ]
    },
    {
      "cell_type": "markdown",
      "metadata": {
        "id": "bhiYqypVbZac"
      },
      "source": [
        "### Defining constants"
      ]
    },
    {
      "cell_type": "code",
      "execution_count": null,
      "metadata": {
        "colab": {
          "base_uri": "https://localhost:8080/"
        },
        "id": "BR62QsYTRy90",
        "outputId": "28344588-843b-45c0-ea57-725857582524"
      },
      "outputs": [
        {
          "output_type": "execute_result",
          "data": {
            "text/plain": [
              "7"
            ]
          },
          "metadata": {},
          "execution_count": 19
        }
      ],
      "source": [
        "T = rdd.getNumPartitions()\n",
        "T "
      ]
    },
    {
      "cell_type": "code",
      "execution_count": null,
      "metadata": {
        "colab": {
          "base_uri": "https://localhost:8080/"
        },
        "id": "wW2HdCTHSFJi",
        "outputId": "94a5db3c-e797-43f3-dd00-3a76d30b2674"
      },
      "outputs": [
        {
          "output_type": "execute_result",
          "data": {
            "text/plain": [
              "133"
            ]
          },
          "metadata": {},
          "execution_count": 20
        }
      ],
      "source": [
        "N = rdd.count()\n",
        "N"
      ]
    },
    {
      "cell_type": "code",
      "execution_count": null,
      "metadata": {
        "colab": {
          "base_uri": "https://localhost:8080/"
        },
        "id": "L8nP39ziSLv4",
        "outputId": "bae12d19-780d-4aa6-90c7-ffd56bb7d98b"
      },
      "outputs": [
        {
          "output_type": "execute_result",
          "data": {
            "text/plain": [
              "19.0"
            ]
          },
          "metadata": {},
          "execution_count": 21
        }
      ],
      "source": [
        "M = N / T\n",
        "M"
      ]
    },
    {
      "cell_type": "code",
      "source": [
        "from numpy import log\n",
        "\n",
        "print(T * log(N * T))\n",
        "# assert M >= T * log(N * T)"
      ],
      "metadata": {
        "colab": {
          "base_uri": "https://localhost:8080/"
        },
        "id": "snATgoiUvd1E",
        "outputId": "7f4e42ee-881b-4763-d1b7-c94e966ee2fc"
      },
      "execution_count": null,
      "outputs": [
        {
          "output_type": "stream",
          "name": "stdout",
          "text": [
            "47.85381494093947\n"
          ]
        }
      ]
    },
    {
      "cell_type": "code",
      "execution_count": null,
      "metadata": {
        "colab": {
          "base_uri": "https://localhost:8080/"
        },
        "id": "t0YL7Ri_SUGg",
        "outputId": "f763b2da-ba03-45ed-b384-29231c50bf85"
      },
      "outputs": [
        {
          "output_type": "execute_result",
          "data": {
            "text/plain": [
              "0.3598031198566877"
            ]
          },
          "metadata": {},
          "execution_count": 23
        }
      ],
      "source": [
        "from numpy import log\n",
        "\n",
        "P = 1 / M * log(N * T)\n",
        "P"
      ]
    },
    {
      "cell_type": "markdown",
      "metadata": {
        "id": "Y1ZhVWE6vOM_"
      },
      "source": [
        "### Debug utils"
      ]
    },
    {
      "cell_type": "code",
      "execution_count": null,
      "metadata": {
        "id": "ytjii56YvQxl"
      },
      "outputs": [],
      "source": [
        "from typing import Any, Iterable, Tuple\n",
        "\n",
        "def check_balance(partition: Iterable[Tuple[int, Any]]):\n",
        "  res = set()\n",
        "  length = 0\n",
        "  for i, _ in partition:\n",
        "    res.add(i)\n",
        "    length += 1\n",
        "  yield list(res), length\n"
      ]
    },
    {
      "cell_type": "markdown",
      "source": [
        "### Extract sort key"
      ],
      "metadata": {
        "id": "4GsN_H6YqG2v"
      }
    },
    {
      "cell_type": "code",
      "source": [
        "def extract_sort_key(obj):\n",
        "  labels, (curr_dim, *_other_dims, point) = obj\n",
        "  if isinstance(point, Dummy):\n",
        "    return (('2',), curr_dim, 2)\n",
        "  obj_type_weight = 0 if isinstance(point, Data) else 1\n",
        "  res = (labels, curr_dim, obj_type_weight)\n",
        "  return res\n",
        "\n",
        "extract_sort_key((('pref1', 'pref2', 'pref3'), (1, 2, 3, 4, Data((1, 2, 3, 4))))) "
      ],
      "metadata": {
        "colab": {
          "base_uri": "https://localhost:8080/"
        },
        "id": "u62gbZS9qN9D",
        "outputId": "2be3f330-06d4-4379-c590-7d96803b2494"
      },
      "execution_count": null,
      "outputs": [
        {
          "output_type": "execute_result",
          "data": {
            "text/plain": [
              "(('pref1', 'pref2', 'pref3'), 1, 0)"
            ]
          },
          "metadata": {},
          "execution_count": 25
        }
      ]
    },
    {
      "cell_type": "markdown",
      "source": [
        "### Sort key ordering tests"
      ],
      "metadata": {
        "id": "nOyUyKi3rCpd"
      }
    },
    {
      "cell_type": "code",
      "source": [
        "extract_sort_key((('pref1', 'pref2', 'pref3'), (1, 2, 3, 4, Data((1, 2, 3, 4))))) < extract_sort_key((('pref1', 'pref2', 'pref3'), (1, 2, 3, 4, Query((1, 2, 3, 4)))))"
      ],
      "metadata": {
        "colab": {
          "base_uri": "https://localhost:8080/"
        },
        "id": "dZdspVb1rBpw",
        "outputId": "211d1008-278e-43fa-f9ae-df3abd07297c"
      },
      "execution_count": null,
      "outputs": [
        {
          "output_type": "execute_result",
          "data": {
            "text/plain": [
              "True"
            ]
          },
          "metadata": {},
          "execution_count": 26
        }
      ]
    },
    {
      "cell_type": "code",
      "source": [
        "extract_sort_key((('abc', 'pref2', 'pref3'), (1, 2, 3, 4, Data((1, 2, 3, 4))))) < extract_sort_key((('cde', 'pref2', 'pref3'), (1, 2, 3, 4, Query((1, 2, 3, 4)))))"
      ],
      "metadata": {
        "colab": {
          "base_uri": "https://localhost:8080/"
        },
        "id": "1KkaqpuJrIrk",
        "outputId": "963880ba-9693-48a7-89aa-f09ee344681f"
      },
      "execution_count": null,
      "outputs": [
        {
          "output_type": "execute_result",
          "data": {
            "text/plain": [
              "True"
            ]
          },
          "metadata": {},
          "execution_count": 27
        }
      ]
    },
    {
      "cell_type": "code",
      "source": [
        "extract_sort_key((('abc', 'pref2', 'pref3'), (1, 2, 3, 4, Data((1, 2, 3, 4))))) < extract_sort_key((('abc', 'pref2', 'pref3'), (10, 2, 3, 4, Query((1, 2, 3, 4)))))"
      ],
      "metadata": {
        "colab": {
          "base_uri": "https://localhost:8080/"
        },
        "id": "Co2OQmfbrYMH",
        "outputId": "15a8ae50-5106-4628-95d3-0dc200ba3aa0"
      },
      "execution_count": null,
      "outputs": [
        {
          "output_type": "execute_result",
          "data": {
            "text/plain": [
              "True"
            ]
          },
          "metadata": {},
          "execution_count": 28
        }
      ]
    },
    {
      "cell_type": "code",
      "source": [
        "extract_sort_key((('abc', 'pref2', 'pref3'), (10, 2, 3, 4, Data((1, 2, 3, 4))))) < extract_sort_key((('abc', 'pref2', 'pref3'), (1, 2, 3, 4, Query((1, 2, 3, 4)))))"
      ],
      "metadata": {
        "colab": {
          "base_uri": "https://localhost:8080/"
        },
        "id": "B0YEL3Cc53KD",
        "outputId": "4d6e9244-91bb-4ea0-bd45-523de2d62477"
      },
      "execution_count": null,
      "outputs": [
        {
          "output_type": "execute_result",
          "data": {
            "text/plain": [
              "False"
            ]
          },
          "metadata": {},
          "execution_count": 29
        }
      ]
    },
    {
      "cell_type": "code",
      "source": [
        "extract_sort_key((('abc', 'pref2', 'pref3'), (1, 2, 3, 4, Query((1, 2, 3, 4))))) < extract_sort_key((('abc', 'pref2', 'pref3'), (1, 2, 3, 4, Data((1, 2, 3, 4)))))"
      ],
      "metadata": {
        "colab": {
          "base_uri": "https://localhost:8080/"
        },
        "id": "BdQd6k_jrba3",
        "outputId": "1caba196-056b-417d-dbb4-f9f6c8ee66a1"
      },
      "execution_count": null,
      "outputs": [
        {
          "output_type": "execute_result",
          "data": {
            "text/plain": [
              "False"
            ]
          },
          "metadata": {},
          "execution_count": 30
        }
      ]
    },
    {
      "cell_type": "markdown",
      "metadata": {
        "id": "bUK2Lnz3bd3w"
      },
      "source": [
        "### Sample - Round 1 Map-Shuffle"
      ]
    },
    {
      "cell_type": "code",
      "execution_count": null,
      "metadata": {
        "id": "raZ4gZlBR8cy"
      },
      "outputs": [],
      "source": [
        "from typing import Callable, Iterable\n",
        "from random import uniform\n",
        "\n",
        "\n",
        "def get_sampler(p: float) -> Callable[[Iterable[Any]], Iterable[Any]]:\n",
        "  def sampler(iterable):\n",
        "    result = []\n",
        "    for x in iterable:\n",
        "      if uniform(0, 1) <= p:\n",
        "        result.append(x)\n",
        "    return result\n",
        "  return sampler\n",
        "\n",
        "sampled_rdd = rdd.mapPartitions(get_sampler(P)).repartition(1)"
      ]
    },
    {
      "cell_type": "code",
      "execution_count": null,
      "metadata": {
        "colab": {
          "base_uri": "https://localhost:8080/"
        },
        "id": "4Pes9J4DeNps",
        "outputId": "950b461d-e18c-4b9f-a767-028ab6f992fc"
      },
      "outputs": [
        {
          "output_type": "execute_result",
          "data": {
            "text/plain": [
              "1"
            ]
          },
          "metadata": {},
          "execution_count": 32
        }
      ],
      "source": [
        "sampled_rdd.getNumPartitions()"
      ]
    },
    {
      "cell_type": "code",
      "execution_count": null,
      "metadata": {
        "id": "MlVqOAOVeSIH",
        "colab": {
          "base_uri": "https://localhost:8080/"
        },
        "outputId": "3f1425b8-84a2-43c8-e2c8-681d48bd99ed"
      },
      "outputs": [
        {
          "output_type": "execute_result",
          "data": {
            "text/plain": [
              "((),\n",
              " (datetime.datetime(2022, 1, 1, 0, 25, 52),\n",
              "  datetime.datetime(2022, 1, 1, 0, 13, 35),\n",
              "  Data(obj=(datetime.datetime(2022, 1, 1, 0, 25, 52), datetime.datetime(2022, 1, 1, 0, 13, 35)))))"
            ]
          },
          "metadata": {},
          "execution_count": 33
        }
      ],
      "source": [
        "sampled_rdd.glom().collect()[0][0]"
      ]
    },
    {
      "cell_type": "markdown",
      "metadata": {
        "id": "7yLfQWYWfmie"
      },
      "source": [
        "### Calculate boundaries - Round 1 Reduce\n"
      ]
    },
    {
      "cell_type": "code",
      "execution_count": null,
      "metadata": {
        "colab": {
          "base_uri": "https://localhost:8080/"
        },
        "id": "dBFogqH0bmnk",
        "outputId": "338c71e6-3d3d-43ea-aa2e-7eb1fd06a06e"
      },
      "outputs": [
        {
          "output_type": "execute_result",
          "data": {
            "text/plain": [
              "[((), datetime.datetime(2022, 1, 1, 0, 26, 57), 0),\n",
              " ((), datetime.datetime(2022, 1, 1, 0, 34, 7), 0),\n",
              " ((), datetime.datetime(2022, 1, 1, 0, 44, 49), 0),\n",
              " ((), datetime.datetime(2022, 1, 1, 0, 52, 51), 1),\n",
              " ((), datetime.datetime(2022, 1, 1, 1, 1, 35), 0),\n",
              " ((), datetime.datetime(2022, 1, 1, 1, 14, 20), 0),\n",
              " (('2',), datetime.datetime(9999, 12, 31, 23, 59, 59, 999999), 2)]"
            ]
          },
          "metadata": {},
          "execution_count": 34
        }
      ],
      "source": [
        "def calculate_boundaries(sampled_rdd):\n",
        "  sampled_sorted_rdd = sampled_rdd.sortBy(extract_sort_key)\n",
        "  sample_count = sampled_sorted_rdd.count()\n",
        "  boundaries_rdd = sampled_sorted_rdd.zipWithIndex() \\\n",
        "      .filter(lambda x: (x[1] + 1) % (sample_count // T) == 0) \\\n",
        "      .map(lambda x: extract_sort_key(x[0]))\n",
        "  boundaries = boundaries_rdd.collect()\n",
        "  return boundaries\n",
        "\n",
        "boundaries = calculate_boundaries(sampled_rdd)\n",
        "boundaries"
      ]
    },
    {
      "cell_type": "markdown",
      "metadata": {
        "id": "xtzaNor5h9wE"
      },
      "source": [
        "### Redistribute  - Round 2 Map-Shuffle"
      ]
    },
    {
      "cell_type": "code",
      "execution_count": null,
      "metadata": {
        "colab": {
          "base_uri": "https://localhost:8080/"
        },
        "id": "3112bi5CLc28",
        "outputId": "2db88207-7d25-4904-81c6-90b6e807866f"
      },
      "outputs": [
        {
          "output_type": "execute_result",
          "data": {
            "text/plain": [
              "<pyspark.broadcast.Broadcast at 0x7feeaf724f40>"
            ]
          },
          "metadata": {},
          "execution_count": 35
        }
      ],
      "source": [
        "boundaries_broadcasted = sc.broadcast(boundaries)\n",
        "boundaries_broadcasted"
      ]
    },
    {
      "cell_type": "code",
      "execution_count": null,
      "metadata": {
        "id": "XANHsOIcisYC"
      },
      "outputs": [],
      "source": [
        "def round2_map_shuffle(partition):\n",
        "    global boundaries_broadcasted\n",
        "    boundaries = boundaries_broadcasted.value\n",
        "    for obj in partition:\n",
        "        key = extract_sort_key(obj)\n",
        "        for j in range(T):\n",
        "            if j == 0:\n",
        "                if key < boundaries[j]:\n",
        "                    yield (j, obj)\n",
        "            elif j == T - 1:\n",
        "                if key >= boundaries[j - 1]:\n",
        "                    yield (j, obj)\n",
        "            else:\n",
        "                if boundaries[j - 1] <= key < boundaries[j]:\n",
        "                    yield (j, obj)\n",
        "\n",
        "shuffled_rdd = rdd.mapPartitions(round2_map_shuffle).partitionBy(T, lambda x: x)"
      ]
    },
    {
      "cell_type": "code",
      "execution_count": null,
      "metadata": {
        "colab": {
          "base_uri": "https://localhost:8080/"
        },
        "id": "mWPwJmZ_kkDw",
        "outputId": "3c776875-fc42-460d-f832-8de7a4865e14"
      },
      "outputs": [
        {
          "output_type": "execute_result",
          "data": {
            "text/plain": [
              "[(0,\n",
              "  ((),\n",
              "   (datetime.datetime(2022, 1, 1, 0, 25, 52),\n",
              "    datetime.datetime(2022, 1, 1, 0, 13, 35),\n",
              "    Data(obj=(datetime.datetime(2022, 1, 1, 0, 25, 52), datetime.datetime(2022, 1, 1, 0, 13, 35)))))),\n",
              " (0,\n",
              "  ((),\n",
              "   (datetime.datetime(2022, 1, 1, 0, 20, 49),\n",
              "    datetime.datetime(2022, 1, 1, 0, 15, 35),\n",
              "    Data(obj=(datetime.datetime(2022, 1, 1, 0, 20, 49), datetime.datetime(2022, 1, 1, 0, 15, 35)))))),\n",
              " (0,\n",
              "  ((),\n",
              "   (datetime.datetime(2022, 1, 1, 0, 25, 53),\n",
              "    datetime.datetime(2022, 1, 1, 0, 21, 1),\n",
              "    Data(obj=(datetime.datetime(2022, 1, 1, 0, 25, 53), datetime.datetime(2022, 1, 1, 0, 21, 1)))))),\n",
              " (0,\n",
              "  ((),\n",
              "   (datetime.datetime(2022, 1, 1, 0, 20, 33),\n",
              "    datetime.datetime(2022, 1, 1, 0, 15, 42),\n",
              "    Data(obj=(datetime.datetime(2022, 1, 1, 0, 20, 33), datetime.datetime(2022, 1, 1, 0, 15, 42)))))),\n",
              " (0,\n",
              "  ((),\n",
              "   (datetime.datetime(2022, 1, 1, 0, 22, 45),\n",
              "    datetime.datetime(2022, 1, 1, 0, 13, 4),\n",
              "    Data(obj=(datetime.datetime(2022, 1, 1, 0, 22, 45), datetime.datetime(2022, 1, 1, 0, 13, 4))))))]"
            ]
          },
          "metadata": {},
          "execution_count": 37
        }
      ],
      "source": [
        "shuffled_rdd.take(5)"
      ]
    },
    {
      "cell_type": "code",
      "execution_count": null,
      "metadata": {
        "colab": {
          "base_uri": "https://localhost:8080/"
        },
        "id": "NgMKPj0LseER",
        "outputId": "a24d47dc-cb9c-499c-8b9e-af9166414c38"
      },
      "outputs": [
        {
          "output_type": "execute_result",
          "data": {
            "text/plain": [
              "[([0], 17), ([1], 12), ([2], 21), ([3], 17), ([4], 21), ([5], 26), ([6], 19)]"
            ]
          },
          "metadata": {},
          "execution_count": 38
        }
      ],
      "source": [
        "shuffled_rdd.mapPartitions(check_balance).collect()"
      ]
    },
    {
      "cell_type": "markdown",
      "metadata": {
        "id": "2jUYoZHJto5f"
      },
      "source": [
        "### Sort - Round 2 Reduce"
      ]
    },
    {
      "cell_type": "code",
      "execution_count": null,
      "metadata": {
        "colab": {
          "base_uri": "https://localhost:8080/"
        },
        "id": "5nxSBj62nHF3",
        "outputId": "72f9e3cd-a23f-4bc8-ba7a-54bfba2d6b8b"
      },
      "outputs": [
        {
          "output_type": "execute_result",
          "data": {
            "text/plain": [
              "[((),\n",
              "  (datetime.datetime(2022, 1, 1, 0, 5, 29),\n",
              "   datetime.datetime(2022, 1, 1, 0, 0, 44),\n",
              "   Data(obj=(datetime.datetime(2022, 1, 1, 0, 5, 29), datetime.datetime(2022, 1, 1, 0, 0, 44))))),\n",
              " ((),\n",
              "  (datetime.datetime(2022, 1, 1, 0, 8, 54),\n",
              "   datetime.datetime(2022, 1, 1, 0, 0, 44),\n",
              "   Data(obj=(datetime.datetime(2022, 1, 1, 0, 8, 54), datetime.datetime(2022, 1, 1, 0, 0, 44))))),\n",
              " ((),\n",
              "  (datetime.datetime(2022, 1, 1, 0, 8, 54),\n",
              "   datetime.datetime(2022, 1, 1, 0, 0, 44),\n",
              "   Query(obj=(datetime.datetime(2022, 1, 1, 0, 8, 54), datetime.datetime(2022, 1, 1, 0, 0, 44))))),\n",
              " ((),\n",
              "  (datetime.datetime(2022, 1, 1, 0, 8, 58),\n",
              "   datetime.datetime(2022, 1, 1, 0, 6, 10),\n",
              "   Data(obj=(datetime.datetime(2022, 1, 1, 0, 8, 58), datetime.datetime(2022, 1, 1, 0, 6, 10))))),\n",
              " ((),\n",
              "  (datetime.datetime(2022, 1, 1, 0, 14, 17),\n",
              "   datetime.datetime(2022, 1, 1, 0, 6, 28),\n",
              "   Data(obj=(datetime.datetime(2022, 1, 1, 0, 14, 17), datetime.datetime(2022, 1, 1, 0, 6, 28)))))]"
            ]
          },
          "metadata": {},
          "execution_count": 39
        }
      ],
      "source": [
        "sorted_rdd = shuffled_rdd \\\n",
        "  .map(lambda x: x[1]) \\\n",
        "  .mapPartitions(lambda x: sorted(x, key=extract_sort_key))\n",
        "\n",
        "sorted_rdd.take(5)"
      ]
    },
    {
      "cell_type": "code",
      "source": [
        "# sorted_rdd.collect()"
      ],
      "metadata": {
        "id": "vZ1pe3Ey32un"
      },
      "execution_count": null,
      "outputs": []
    },
    {
      "cell_type": "markdown",
      "metadata": {
        "id": "mbVmVwO2nUdC"
      },
      "source": [
        "## Perfect Balance"
      ]
    },
    {
      "cell_type": "markdown",
      "metadata": {
        "id": "RjxGVvEAyvS-"
      },
      "source": [
        "### Compute Rank using Prefix Sums"
      ]
    },
    {
      "cell_type": "markdown",
      "metadata": {
        "id": "bhg8jnhSy0zW"
      },
      "source": [
        "#### Rank Map Shuffle"
      ]
    },
    {
      "cell_type": "code",
      "execution_count": null,
      "metadata": {
        "colab": {
          "base_uri": "https://localhost:8080/"
        },
        "id": "JaI8IuncndZS",
        "outputId": "a0b74ab3-5d36-4a92-a2fb-ede67b03ff6e"
      },
      "outputs": [
        {
          "output_type": "execute_result",
          "data": {
            "text/plain": [
              "[17, 12, 21, 17, 21, 26, 19]"
            ]
          },
          "metadata": {},
          "execution_count": 41
        }
      ],
      "source": [
        "def partition_len(partition):\n",
        "    total_weight = len(list(partition))\n",
        "    yield total_weight\n",
        "\n",
        "total_weights_rdd = sorted_rdd.mapPartitions(lambda x: partition_len(x))\n",
        "\n",
        "total_weights = total_weights_rdd.collect()\n",
        "total_weights"
      ]
    },
    {
      "cell_type": "code",
      "execution_count": null,
      "metadata": {
        "colab": {
          "base_uri": "https://localhost:8080/"
        },
        "id": "S9UNglne2XkV",
        "outputId": "19f60106-c5ee-47a0-cb74-2de3db3feb1f"
      },
      "outputs": [
        {
          "output_type": "execute_result",
          "data": {
            "text/plain": [
              "[0, 17, 29, 50, 67, 88, 114]"
            ]
          },
          "metadata": {},
          "execution_count": 42
        }
      ],
      "source": [
        "from functools import reduce\n",
        "\n",
        "def reduce_func(acc, x):\n",
        "  return acc + [acc[-1] + x]\n",
        "\n",
        "prefix_sums = list(reduce(reduce_func, total_weights, [0]))[:-1]\n",
        "prefix_sums"
      ]
    },
    {
      "cell_type": "code",
      "execution_count": null,
      "metadata": {
        "colab": {
          "base_uri": "https://localhost:8080/"
        },
        "id": "mJza-kR21Og5",
        "outputId": "9c21f03e-21cc-4b92-c1d6-158139f42ed6"
      },
      "outputs": [
        {
          "output_type": "execute_result",
          "data": {
            "text/plain": [
              "<pyspark.broadcast.Broadcast at 0x7feeaf727070>"
            ]
          },
          "metadata": {},
          "execution_count": 43
        }
      ],
      "source": [
        "prefix_sums_broadcasted = sc.broadcast(prefix_sums)\n",
        "prefix_sums_broadcasted"
      ]
    },
    {
      "cell_type": "markdown",
      "metadata": {
        "id": "z1sBo5nf3lF-"
      },
      "source": [
        "#### Rank Reduce"
      ]
    },
    {
      "cell_type": "code",
      "execution_count": null,
      "metadata": {
        "colab": {
          "base_uri": "https://localhost:8080/"
        },
        "id": "JCACBkhE3nhh",
        "outputId": "fc6dee5b-d6c1-4144-d4c3-0feb0d730a86"
      },
      "outputs": [
        {
          "output_type": "execute_result",
          "data": {
            "text/plain": [
              "[(0,\n",
              "  ((),\n",
              "   (datetime.datetime(2022, 1, 1, 0, 5, 29),\n",
              "    datetime.datetime(2022, 1, 1, 0, 0, 44),\n",
              "    Data(obj=(datetime.datetime(2022, 1, 1, 0, 5, 29), datetime.datetime(2022, 1, 1, 0, 0, 44)))))),\n",
              " (1,\n",
              "  ((),\n",
              "   (datetime.datetime(2022, 1, 1, 0, 8, 54),\n",
              "    datetime.datetime(2022, 1, 1, 0, 0, 44),\n",
              "    Data(obj=(datetime.datetime(2022, 1, 1, 0, 8, 54), datetime.datetime(2022, 1, 1, 0, 0, 44)))))),\n",
              " (2,\n",
              "  ((),\n",
              "   (datetime.datetime(2022, 1, 1, 0, 8, 54),\n",
              "    datetime.datetime(2022, 1, 1, 0, 0, 44),\n",
              "    Query(obj=(datetime.datetime(2022, 1, 1, 0, 8, 54), datetime.datetime(2022, 1, 1, 0, 0, 44)))))),\n",
              " (3,\n",
              "  ((),\n",
              "   (datetime.datetime(2022, 1, 1, 0, 8, 58),\n",
              "    datetime.datetime(2022, 1, 1, 0, 6, 10),\n",
              "    Data(obj=(datetime.datetime(2022, 1, 1, 0, 8, 58), datetime.datetime(2022, 1, 1, 0, 6, 10)))))),\n",
              " (4,\n",
              "  ((),\n",
              "   (datetime.datetime(2022, 1, 1, 0, 14, 17),\n",
              "    datetime.datetime(2022, 1, 1, 0, 6, 28),\n",
              "    Data(obj=(datetime.datetime(2022, 1, 1, 0, 14, 17), datetime.datetime(2022, 1, 1, 0, 6, 28))))))]"
            ]
          },
          "metadata": {},
          "execution_count": 44
        }
      ],
      "source": [
        "def rank_reduce(partition_idx, partition):\n",
        "    global prefix_sums_broadcasted\n",
        "    prefix_sums = prefix_sums_broadcasted.value\n",
        "    for i, obj in enumerate(partition):\n",
        "      yield prefix_sums[partition_idx] + i, obj\n",
        "\n",
        "ranked_rdd = sorted_rdd.mapPartitionsWithIndex(rank_reduce)\n",
        "ranked_rdd.take(5)"
      ]
    },
    {
      "cell_type": "code",
      "source": [
        "# ranked_rdd.collect()"
      ],
      "metadata": {
        "id": "Kz9G3Jfk4VmD"
      },
      "execution_count": null,
      "outputs": []
    },
    {
      "cell_type": "code",
      "execution_count": null,
      "metadata": {
        "colab": {
          "base_uri": "https://localhost:8080/"
        },
        "id": "14oh_bFkEIqQ",
        "outputId": "5fb59182-0277-4e14-b29b-4dc8e686951a"
      },
      "outputs": [
        {
          "output_type": "execute_result",
          "data": {
            "text/plain": [
              "132"
            ]
          },
          "metadata": {},
          "execution_count": 46
        }
      ],
      "source": [
        "ranked_rdd.map(lambda x: x[0]).reduce(lambda x, y: max(x, y))"
      ]
    },
    {
      "cell_type": "code",
      "execution_count": null,
      "metadata": {
        "colab": {
          "base_uri": "https://localhost:8080/"
        },
        "id": "GNiRkk3WDGO5",
        "outputId": "93ee4e8f-dd4a-4699-f2da-376cfd17af50"
      },
      "outputs": [
        {
          "output_type": "execute_result",
          "data": {
            "text/plain": [
              "7.0"
            ]
          },
          "metadata": {},
          "execution_count": 47
        }
      ],
      "source": [
        "N / M"
      ]
    },
    {
      "cell_type": "code",
      "execution_count": null,
      "metadata": {
        "colab": {
          "base_uri": "https://localhost:8080/"
        },
        "id": "dL-zUa9AEwvb",
        "outputId": "d1739f1b-be95-45b8-e1b6-66cf2ca67b41"
      },
      "outputs": [
        {
          "output_type": "execute_result",
          "data": {
            "text/plain": [
              "133"
            ]
          },
          "metadata": {},
          "execution_count": 48
        }
      ],
      "source": [
        "N"
      ]
    },
    {
      "cell_type": "code",
      "execution_count": null,
      "metadata": {
        "colab": {
          "base_uri": "https://localhost:8080/"
        },
        "id": "92zEWWoaI27n",
        "outputId": "89659754-d83e-46d4-84f0-ce73eff3ce98"
      },
      "outputs": [
        {
          "output_type": "execute_result",
          "data": {
            "text/plain": [
              "133"
            ]
          },
          "metadata": {},
          "execution_count": 49
        }
      ],
      "source": [
        "sum(total_weights)"
      ]
    },
    {
      "cell_type": "code",
      "execution_count": null,
      "metadata": {
        "colab": {
          "base_uri": "https://localhost:8080/"
        },
        "id": "QEPvIMQGHEcY",
        "outputId": "319a769f-e0c5-4bac-ba76-bcf4ccb8c47e"
      },
      "outputs": [
        {
          "output_type": "execute_result",
          "data": {
            "text/plain": [
              "133"
            ]
          },
          "metadata": {},
          "execution_count": 50
        }
      ],
      "source": [
        "ranked_rdd.count()"
      ]
    },
    {
      "cell_type": "code",
      "execution_count": null,
      "metadata": {
        "colab": {
          "base_uri": "https://localhost:8080/"
        },
        "id": "N0oXuf0XIJhX",
        "outputId": "781a724d-7c4c-437a-ff59-c53f4547b436"
      },
      "outputs": [
        {
          "output_type": "execute_result",
          "data": {
            "text/plain": [
              "19.0"
            ]
          },
          "metadata": {},
          "execution_count": 51
        }
      ],
      "source": [
        "M"
      ]
    },
    {
      "cell_type": "markdown",
      "metadata": {
        "id": "5XbN4AvL5Hda"
      },
      "source": [
        "#### Perfect Balance Map-Shuffle"
      ]
    },
    {
      "cell_type": "code",
      "execution_count": null,
      "metadata": {
        "colab": {
          "base_uri": "https://localhost:8080/"
        },
        "id": "yaUnTO0q5Gmz",
        "outputId": "1d55dcf1-d5d0-4876-d549-1eda23c06f9d"
      },
      "outputs": [
        {
          "output_type": "execute_result",
          "data": {
            "text/plain": [
              "[(0,\n",
              "  (0,\n",
              "   ((),\n",
              "    (datetime.datetime(2022, 1, 1, 0, 5, 29),\n",
              "     datetime.datetime(2022, 1, 1, 0, 0, 44),\n",
              "     Data(obj=(datetime.datetime(2022, 1, 1, 0, 5, 29), datetime.datetime(2022, 1, 1, 0, 0, 44))))))),\n",
              " (0,\n",
              "  (1,\n",
              "   ((),\n",
              "    (datetime.datetime(2022, 1, 1, 0, 8, 54),\n",
              "     datetime.datetime(2022, 1, 1, 0, 0, 44),\n",
              "     Data(obj=(datetime.datetime(2022, 1, 1, 0, 8, 54), datetime.datetime(2022, 1, 1, 0, 0, 44))))))),\n",
              " (0,\n",
              "  (2,\n",
              "   ((),\n",
              "    (datetime.datetime(2022, 1, 1, 0, 8, 54),\n",
              "     datetime.datetime(2022, 1, 1, 0, 0, 44),\n",
              "     Query(obj=(datetime.datetime(2022, 1, 1, 0, 8, 54), datetime.datetime(2022, 1, 1, 0, 0, 44))))))),\n",
              " (0,\n",
              "  (3,\n",
              "   ((),\n",
              "    (datetime.datetime(2022, 1, 1, 0, 8, 58),\n",
              "     datetime.datetime(2022, 1, 1, 0, 6, 10),\n",
              "     Data(obj=(datetime.datetime(2022, 1, 1, 0, 8, 58), datetime.datetime(2022, 1, 1, 0, 6, 10))))))),\n",
              " (0,\n",
              "  (4,\n",
              "   ((),\n",
              "    (datetime.datetime(2022, 1, 1, 0, 14, 17),\n",
              "     datetime.datetime(2022, 1, 1, 0, 6, 28),\n",
              "     Data(obj=(datetime.datetime(2022, 1, 1, 0, 14, 17), datetime.datetime(2022, 1, 1, 0, 6, 28)))))))]"
            ]
          },
          "metadata": {},
          "execution_count": 52
        }
      ],
      "source": [
        "from pyspark import RDD\n",
        "\n",
        "def shuffle(rank_obj):\n",
        "  global M\n",
        "  rank, obj = rank_obj\n",
        "  j = int(rank // M)\n",
        "  return (j, (rank, obj))\n",
        "\n",
        "ranked_rdd: RDD = ranked_rdd\n",
        "perfectly_balanced_rdd = ranked_rdd.map(shuffle).groupByKey(T, lambda x: x).flatMapValues(list)\n",
        "\n",
        "perfectly_balanced_rdd.take(5)"
      ]
    },
    {
      "cell_type": "code",
      "source": [
        "# perfectly_balanced_rdd.collect()"
      ],
      "metadata": {
        "id": "B6luTBmA4f5P"
      },
      "execution_count": null,
      "outputs": []
    },
    {
      "cell_type": "code",
      "execution_count": null,
      "metadata": {
        "colab": {
          "base_uri": "https://localhost:8080/"
        },
        "id": "azTy9cpn6pnZ",
        "outputId": "5456c725-880b-46ac-8de2-70f505f36531"
      },
      "outputs": [
        {
          "output_type": "execute_result",
          "data": {
            "text/plain": [
              "[([0], 19), ([1], 19), ([2], 19), ([3], 19), ([4], 19), ([5], 19), ([6], 19)]"
            ]
          },
          "metadata": {},
          "execution_count": 54
        }
      ],
      "source": [
        "perfectly_balanced_rdd.mapPartitions(check_balance).collect()"
      ]
    },
    {
      "cell_type": "code",
      "execution_count": null,
      "metadata": {
        "colab": {
          "base_uri": "https://localhost:8080/"
        },
        "id": "uGgeruTGqmp8",
        "outputId": "b96eb237-5db5-476f-f05d-1ef3b612f7cf"
      },
      "outputs": [
        {
          "output_type": "execute_result",
          "data": {
            "text/plain": [
              "[(0,\n",
              "  ((),\n",
              "   (datetime.datetime(2022, 1, 1, 0, 5, 29),\n",
              "    datetime.datetime(2022, 1, 1, 0, 0, 44),\n",
              "    Data(obj=(datetime.datetime(2022, 1, 1, 0, 5, 29), datetime.datetime(2022, 1, 1, 0, 0, 44)))))),\n",
              " (1,\n",
              "  ((),\n",
              "   (datetime.datetime(2022, 1, 1, 0, 8, 54),\n",
              "    datetime.datetime(2022, 1, 1, 0, 0, 44),\n",
              "    Data(obj=(datetime.datetime(2022, 1, 1, 0, 8, 54), datetime.datetime(2022, 1, 1, 0, 0, 44)))))),\n",
              " (2,\n",
              "  ((),\n",
              "   (datetime.datetime(2022, 1, 1, 0, 8, 54),\n",
              "    datetime.datetime(2022, 1, 1, 0, 0, 44),\n",
              "    Query(obj=(datetime.datetime(2022, 1, 1, 0, 8, 54), datetime.datetime(2022, 1, 1, 0, 0, 44)))))),\n",
              " (3,\n",
              "  ((),\n",
              "   (datetime.datetime(2022, 1, 1, 0, 8, 58),\n",
              "    datetime.datetime(2022, 1, 1, 0, 6, 10),\n",
              "    Data(obj=(datetime.datetime(2022, 1, 1, 0, 8, 58), datetime.datetime(2022, 1, 1, 0, 6, 10)))))),\n",
              " (4,\n",
              "  ((),\n",
              "   (datetime.datetime(2022, 1, 1, 0, 14, 17),\n",
              "    datetime.datetime(2022, 1, 1, 0, 6, 28),\n",
              "    Data(obj=(datetime.datetime(2022, 1, 1, 0, 14, 17), datetime.datetime(2022, 1, 1, 0, 6, 28))))))]"
            ]
          },
          "metadata": {},
          "execution_count": 55
        }
      ],
      "source": [
        "perfectly_balanced_rdd = perfectly_balanced_rdd.map(lambda x: x[1])\n",
        "perfectly_balanced_rdd.take(5)"
      ]
    },
    {
      "cell_type": "markdown",
      "metadata": {
        "id": "mToczf0_oWHy"
      },
      "source": [
        "##  Multidimensional Interval Multiquery Processor"
      ]
    },
    {
      "cell_type": "markdown",
      "source": [
        "### Reduplicate"
      ],
      "metadata": {
        "id": "z3__PCajKtDd"
      }
    },
    {
      "cell_type": "code",
      "source": [
        "from math import log, ceil\n",
        "\n",
        "TREE_HEIGHT = ceil(log(N, 2))\n",
        "TREE_HEIGHT"
      ],
      "metadata": {
        "colab": {
          "base_uri": "https://localhost:8080/"
        },
        "id": "c2Kwsr73Lsgs",
        "outputId": "19eda251-f410-474b-8571-5f42ee92f841"
      },
      "execution_count": null,
      "outputs": [
        {
          "output_type": "execute_result",
          "data": {
            "text/plain": [
              "8"
            ]
          },
          "metadata": {},
          "execution_count": 56
        }
      ]
    },
    {
      "cell_type": "code",
      "source": [
        "def get_binary_notation_str(number):\n",
        "  res = bin(number)[2:].rjust(TREE_HEIGHT, '0')\n",
        "  return res\n",
        "\n",
        "get_binary_notation_str(10)"
      ],
      "metadata": {
        "colab": {
          "base_uri": "https://localhost:8080/",
          "height": 35
        },
        "id": "kQ8VmcKuLp6R",
        "outputId": "2aae6b19-abba-40d0-e1cc-57d080463e48"
      },
      "execution_count": null,
      "outputs": [
        {
          "output_type": "execute_result",
          "data": {
            "text/plain": [
              "'00001010'"
            ],
            "application/vnd.google.colaboratory.intrinsic+json": {
              "type": "string"
            }
          },
          "metadata": {},
          "execution_count": 57
        }
      ]
    },
    {
      "cell_type": "code",
      "source": [
        "def get_prefixes_followed_by_digit(rank: int, digit: str):\n",
        "  bin_str = get_binary_notation_str(rank)\n",
        "  res = []\n",
        "  for i in range(len(bin_str)):\n",
        "    if bin_str[i] == digit:\n",
        "      res.append(bin_str[:i])\n",
        "  return res\n",
        "\n",
        "get_prefixes_followed_by_digit(10, '0')"
      ],
      "metadata": {
        "colab": {
          "base_uri": "https://localhost:8080/"
        },
        "id": "xqq9oGfrLX8U",
        "outputId": "bc06df13-a81c-40f6-88b0-bbb1ccd9312c"
      },
      "execution_count": null,
      "outputs": [
        {
          "output_type": "execute_result",
          "data": {
            "text/plain": [
              "['', '0', '00', '000', '00001', '0000101']"
            ]
          },
          "metadata": {},
          "execution_count": 58
        }
      ]
    },
    {
      "cell_type": "code",
      "source": [
        "def reduplicate_row(rank_obj):\n",
        "  rank, obj = rank_obj\n",
        "  labels, (_cur_dim, *next_dims, point) = obj\n",
        "  if isinstance(point, Dummy):\n",
        "    return []\n",
        "  digit = '0' if isinstance(point, Data) else '1'\n",
        "  prefixes = get_prefixes_followed_by_digit(rank, digit)\n",
        "  res = list(map(lambda prefix: ((*labels, prefix), tuple([*next_dims, point])), prefixes))\n",
        "  return res\n",
        "\n",
        "reduplicate_row((10, (('pref1', 'pref2'), (1, 2, 3, 4, Data((1, 2, 3, 4))))))"
      ],
      "metadata": {
        "colab": {
          "base_uri": "https://localhost:8080/"
        },
        "id": "4sg3OoSWKrs_",
        "outputId": "17002406-271d-4971-e385-ae092472ab72"
      },
      "execution_count": null,
      "outputs": [
        {
          "output_type": "execute_result",
          "data": {
            "text/plain": [
              "[(('pref1', 'pref2', ''), (2, 3, 4, Data(obj=(1, 2, 3, 4)))),\n",
              " (('pref1', 'pref2', '0'), (2, 3, 4, Data(obj=(1, 2, 3, 4)))),\n",
              " (('pref1', 'pref2', '00'), (2, 3, 4, Data(obj=(1, 2, 3, 4)))),\n",
              " (('pref1', 'pref2', '000'), (2, 3, 4, Data(obj=(1, 2, 3, 4)))),\n",
              " (('pref1', 'pref2', '00001'), (2, 3, 4, Data(obj=(1, 2, 3, 4)))),\n",
              " (('pref1', 'pref2', '0000101'), (2, 3, 4, Data(obj=(1, 2, 3, 4))))]"
            ]
          },
          "metadata": {},
          "execution_count": 59
        }
      ]
    },
    {
      "cell_type": "code",
      "source": [
        "N, perfectly_balanced_rdd.count()"
      ],
      "metadata": {
        "colab": {
          "base_uri": "https://localhost:8080/"
        },
        "id": "AKImsfhbv2aG",
        "outputId": "3e8c2b3a-0bd8-476a-ef0e-184909c3957e"
      },
      "execution_count": null,
      "outputs": [
        {
          "output_type": "execute_result",
          "data": {
            "text/plain": [
              "(133, 133)"
            ]
          },
          "metadata": {},
          "execution_count": 60
        }
      ]
    },
    {
      "cell_type": "code",
      "source": [
        "perfectly_balanced_rdd.flatMap(reduplicate_row).count()"
      ],
      "metadata": {
        "colab": {
          "base_uri": "https://localhost:8080/"
        },
        "id": "iCmR39Vjs5cI",
        "outputId": "5f916e33-fbf6-4cc8-bfee-b6b0eedb66d1"
      },
      "execution_count": null,
      "outputs": [
        {
          "output_type": "execute_result",
          "data": {
            "text/plain": [
              "539"
            ]
          },
          "metadata": {},
          "execution_count": 61
        }
      ]
    },
    {
      "cell_type": "markdown",
      "source": [
        "### Iterate sorting and reduplicating"
      ],
      "metadata": {
        "id": "qNf4ORPBwv5T"
      }
    },
    {
      "cell_type": "code",
      "source": [
        "def terra_sort_with_perfect_balance(rdd1):\n",
        "  global N, T, M, P, prefix_sums_broadcasted, boundaries_broadcasted\n",
        "  # add dummy rows\n",
        "  rdd1 = add_dummy_rows(rdd1)\n",
        "  N = rdd1.count()\n",
        "  print(f\"N: {N}\")\n",
        "  T = rdd1.getNumPartitions()\n",
        "  print(f\"T: {T}\")\n",
        "  M = N / T\n",
        "  print(f\"M: {M}\")\n",
        "  print(T * log(N * T))\n",
        "  if M < T * log(N * T):\n",
        "    print(f\"Warning M < T * log(N * T): {M} < {T * log(N * T)}\")\n",
        "  P = 1 / M * log(N * T)\n",
        "  print(f\"P: {P}\")\n",
        "\n",
        "  # sort\n",
        "  sampled_rdd = rdd1.mapPartitions(get_sampler(P)).repartition(1)\n",
        "  boundaries = calculate_boundaries(sampled_rdd)\n",
        "  print(f\"Boundaries: {boundaries}\")\n",
        "  boundaries_broadcasted = sc.broadcast(boundaries)\n",
        "  print(f\"RDD ORG: {rdd1.take(5)}\")\n",
        "  shuffled_rdd = rdd1.mapPartitions(round2_map_shuffle).partitionBy(T, lambda x: x)\n",
        "  print(f\"SHUFFLED RDD: {shuffled_rdd.take(5)}\")\n",
        "  sorted_rdd = shuffled_rdd \\\n",
        "  .map(lambda x: x[1]) \\\n",
        "  .mapPartitions(lambda x: sorted(x, key=extract_sort_key))\n",
        "  print(f\"SORTED RDD: {sorted_rdd.take(5)}\")\n",
        "\n",
        "\n",
        "  # perfect balance\n",
        "  total_weights_rdd = sorted_rdd.mapPartitions(lambda x: partition_len(x))\n",
        "  total_weights = total_weights_rdd.collect()\n",
        "  prefix_sums = list(reduce(reduce_func, total_weights, [0]))[:-1]\n",
        "  print(f\"PREFIX SUMS: {prefix_sums}\")\n",
        "  prefix_sums_broadcasted = sc.broadcast(prefix_sums)\n",
        "  ranked_rdd = sorted_rdd.mapPartitionsWithIndex(rank_reduce)\n",
        "  print(f\"RANKED RDD: {ranked_rdd.take(5)}\")\n",
        "  perfectly_balanced_rdd = ranked_rdd.map(shuffle).groupByKey(T, lambda x: x).flatMapValues(list)\n",
        "  print(f\"PERFECTLY BALANCED: {perfectly_balanced_rdd.mapPartitions(check_balance).collect()}\")\n",
        "  perfectly_balanced_rdd = perfectly_balanced_rdd.map(lambda x: x[1])\n",
        "  return perfectly_balanced_rdd\n"
      ],
      "metadata": {
        "id": "IQbQQQD2v4qm"
      },
      "execution_count": null,
      "outputs": []
    },
    {
      "cell_type": "code",
      "source": [
        "def reduplicate(rdd):\n",
        "  global N, TREE_HEIGHT\n",
        "  N = rdd.count()\n",
        "  print(f\"N: {N}\")\n",
        "  TREE_HEIGHT = ceil(log(N, 2))\n",
        "  print(f\"TREE_HEIGHT: {TREE_HEIGHT}\")\n",
        "  res = rdd.flatMap(reduplicate_row)\n",
        "  return res"
      ],
      "metadata": {
        "id": "1bZ8-2ylxElc"
      },
      "execution_count": null,
      "outputs": []
    },
    {
      "cell_type": "code",
      "source": [
        "rdd.take(5)"
      ],
      "metadata": {
        "colab": {
          "base_uri": "https://localhost:8080/"
        },
        "id": "e71h7RinxXzC",
        "outputId": "f40fa17d-4424-465e-dbaa-cf582a91eab3"
      },
      "execution_count": null,
      "outputs": [
        {
          "output_type": "execute_result",
          "data": {
            "text/plain": [
              "[((),\n",
              "  (datetime.datetime(2022, 1, 1, 0, 25, 52),\n",
              "   datetime.datetime(2022, 1, 1, 0, 13, 35),\n",
              "   Data(obj=(datetime.datetime(2022, 1, 1, 0, 25, 52), datetime.datetime(2022, 1, 1, 0, 13, 35))))),\n",
              " ((),\n",
              "  (datetime.datetime(2022, 1, 1, 0, 39, 38),\n",
              "   datetime.datetime(2022, 1, 1, 0, 32, 27),\n",
              "   Data(obj=(datetime.datetime(2022, 1, 1, 0, 39, 38), datetime.datetime(2022, 1, 1, 0, 32, 27))))),\n",
              " ((),\n",
              "  (datetime.datetime(2022, 1, 1, 0, 39, 38),\n",
              "   datetime.datetime(2022, 1, 1, 0, 32, 27),\n",
              "   Query(obj=(datetime.datetime(2022, 1, 1, 0, 39, 38), datetime.datetime(2022, 1, 1, 0, 32, 27))))),\n",
              " ((),\n",
              "  (datetime.datetime(2022, 1, 1, 1, 1, 35),\n",
              "   datetime.datetime(2022, 1, 1, 0, 43, 15),\n",
              "   Data(obj=(datetime.datetime(2022, 1, 1, 1, 1, 35), datetime.datetime(2022, 1, 1, 0, 43, 15))))),\n",
              " ((),\n",
              "  (datetime.datetime(2022, 1, 1, 0, 20, 49),\n",
              "   datetime.datetime(2022, 1, 1, 0, 15, 35),\n",
              "   Data(obj=(datetime.datetime(2022, 1, 1, 0, 20, 49), datetime.datetime(2022, 1, 1, 0, 15, 35)))))]"
            ]
          },
          "metadata": {},
          "execution_count": 72
        }
      ]
    },
    {
      "cell_type": "code",
      "source": [
        "ordered_by_first_rdd = terra_sort_with_perfect_balance(rdd)\n",
        "ordered_by_first_rdd.take(5)"
      ],
      "metadata": {
        "colab": {
          "base_uri": "https://localhost:8080/"
        },
        "id": "0MU2BTlFxMUb",
        "outputId": "fb1ddaf5-9c04-46b1-80e0-467b794dd361"
      },
      "execution_count": null,
      "outputs": [
        {
          "output_type": "stream",
          "name": "stdout",
          "text": [
            "RDD containing 133 rows.\n",
            "N: 133\n",
            "T: 7\n",
            "M: 19.0\n",
            "47.85381494093947\n",
            "Warning M < T * log(N * T): 19.0 < 47.85381494093947\n",
            "P: 0.3598031198566877\n",
            "Boundaries: [((), datetime.datetime(2022, 1, 1, 0, 26, 57), 0), ((), datetime.datetime(2022, 1, 1, 0, 34, 7), 0), ((), datetime.datetime(2022, 1, 1, 0, 44, 49), 0), ((), datetime.datetime(2022, 1, 1, 0, 52, 51), 1), ((), datetime.datetime(2022, 1, 1, 1, 1, 35), 0), ((), datetime.datetime(2022, 1, 1, 1, 14, 20), 0), (('2',), datetime.datetime(9999, 12, 31, 23, 59, 59, 999999), 2)]\n",
            "RDD ORG: [((), (datetime.datetime(2022, 1, 1, 0, 25, 52), datetime.datetime(2022, 1, 1, 0, 13, 35), Data(obj=(datetime.datetime(2022, 1, 1, 0, 25, 52), datetime.datetime(2022, 1, 1, 0, 13, 35))))), ((), (datetime.datetime(2022, 1, 1, 0, 39, 38), datetime.datetime(2022, 1, 1, 0, 32, 27), Data(obj=(datetime.datetime(2022, 1, 1, 0, 39, 38), datetime.datetime(2022, 1, 1, 0, 32, 27))))), ((), (datetime.datetime(2022, 1, 1, 0, 39, 38), datetime.datetime(2022, 1, 1, 0, 32, 27), Query(obj=(datetime.datetime(2022, 1, 1, 0, 39, 38), datetime.datetime(2022, 1, 1, 0, 32, 27))))), ((), (datetime.datetime(2022, 1, 1, 1, 1, 35), datetime.datetime(2022, 1, 1, 0, 43, 15), Data(obj=(datetime.datetime(2022, 1, 1, 1, 1, 35), datetime.datetime(2022, 1, 1, 0, 43, 15))))), ((), (datetime.datetime(2022, 1, 1, 0, 20, 49), datetime.datetime(2022, 1, 1, 0, 15, 35), Data(obj=(datetime.datetime(2022, 1, 1, 0, 20, 49), datetime.datetime(2022, 1, 1, 0, 15, 35)))))]\n",
            "SHUFFLED RDD: [(0, ((), (datetime.datetime(2022, 1, 1, 0, 25, 52), datetime.datetime(2022, 1, 1, 0, 13, 35), Data(obj=(datetime.datetime(2022, 1, 1, 0, 25, 52), datetime.datetime(2022, 1, 1, 0, 13, 35)))))), (0, ((), (datetime.datetime(2022, 1, 1, 0, 20, 49), datetime.datetime(2022, 1, 1, 0, 15, 35), Data(obj=(datetime.datetime(2022, 1, 1, 0, 20, 49), datetime.datetime(2022, 1, 1, 0, 15, 35)))))), (0, ((), (datetime.datetime(2022, 1, 1, 0, 25, 53), datetime.datetime(2022, 1, 1, 0, 21, 1), Data(obj=(datetime.datetime(2022, 1, 1, 0, 25, 53), datetime.datetime(2022, 1, 1, 0, 21, 1)))))), (0, ((), (datetime.datetime(2022, 1, 1, 0, 20, 33), datetime.datetime(2022, 1, 1, 0, 15, 42), Data(obj=(datetime.datetime(2022, 1, 1, 0, 20, 33), datetime.datetime(2022, 1, 1, 0, 15, 42)))))), (0, ((), (datetime.datetime(2022, 1, 1, 0, 22, 45), datetime.datetime(2022, 1, 1, 0, 13, 4), Data(obj=(datetime.datetime(2022, 1, 1, 0, 22, 45), datetime.datetime(2022, 1, 1, 0, 13, 4))))))]\n",
            "SORTED RDD: [((), (datetime.datetime(2022, 1, 1, 0, 5, 29), datetime.datetime(2022, 1, 1, 0, 0, 44), Data(obj=(datetime.datetime(2022, 1, 1, 0, 5, 29), datetime.datetime(2022, 1, 1, 0, 0, 44))))), ((), (datetime.datetime(2022, 1, 1, 0, 8, 54), datetime.datetime(2022, 1, 1, 0, 0, 44), Data(obj=(datetime.datetime(2022, 1, 1, 0, 8, 54), datetime.datetime(2022, 1, 1, 0, 0, 44))))), ((), (datetime.datetime(2022, 1, 1, 0, 8, 54), datetime.datetime(2022, 1, 1, 0, 0, 44), Query(obj=(datetime.datetime(2022, 1, 1, 0, 8, 54), datetime.datetime(2022, 1, 1, 0, 0, 44))))), ((), (datetime.datetime(2022, 1, 1, 0, 8, 58), datetime.datetime(2022, 1, 1, 0, 6, 10), Data(obj=(datetime.datetime(2022, 1, 1, 0, 8, 58), datetime.datetime(2022, 1, 1, 0, 6, 10))))), ((), (datetime.datetime(2022, 1, 1, 0, 14, 17), datetime.datetime(2022, 1, 1, 0, 6, 28), Data(obj=(datetime.datetime(2022, 1, 1, 0, 14, 17), datetime.datetime(2022, 1, 1, 0, 6, 28)))))]\n",
            "PREFIX SUMS: [0, 17, 29, 50, 67, 88, 114]\n",
            "RANKED RDD: [(0, ((), (datetime.datetime(2022, 1, 1, 0, 5, 29), datetime.datetime(2022, 1, 1, 0, 0, 44), Data(obj=(datetime.datetime(2022, 1, 1, 0, 5, 29), datetime.datetime(2022, 1, 1, 0, 0, 44)))))), (1, ((), (datetime.datetime(2022, 1, 1, 0, 8, 54), datetime.datetime(2022, 1, 1, 0, 0, 44), Data(obj=(datetime.datetime(2022, 1, 1, 0, 8, 54), datetime.datetime(2022, 1, 1, 0, 0, 44)))))), (2, ((), (datetime.datetime(2022, 1, 1, 0, 8, 54), datetime.datetime(2022, 1, 1, 0, 0, 44), Query(obj=(datetime.datetime(2022, 1, 1, 0, 8, 54), datetime.datetime(2022, 1, 1, 0, 0, 44)))))), (3, ((), (datetime.datetime(2022, 1, 1, 0, 8, 58), datetime.datetime(2022, 1, 1, 0, 6, 10), Data(obj=(datetime.datetime(2022, 1, 1, 0, 8, 58), datetime.datetime(2022, 1, 1, 0, 6, 10)))))), (4, ((), (datetime.datetime(2022, 1, 1, 0, 14, 17), datetime.datetime(2022, 1, 1, 0, 6, 28), Data(obj=(datetime.datetime(2022, 1, 1, 0, 14, 17), datetime.datetime(2022, 1, 1, 0, 6, 28))))))]\n",
            "PERFECTLY BALANCED: [([0], 19), ([1], 19), ([2], 19), ([3], 19), ([4], 19), ([5], 19), ([6], 19)]\n"
          ]
        },
        {
          "output_type": "execute_result",
          "data": {
            "text/plain": [
              "[(0,\n",
              "  ((),\n",
              "   (datetime.datetime(2022, 1, 1, 0, 5, 29),\n",
              "    datetime.datetime(2022, 1, 1, 0, 0, 44),\n",
              "    Data(obj=(datetime.datetime(2022, 1, 1, 0, 5, 29), datetime.datetime(2022, 1, 1, 0, 0, 44)))))),\n",
              " (1,\n",
              "  ((),\n",
              "   (datetime.datetime(2022, 1, 1, 0, 8, 54),\n",
              "    datetime.datetime(2022, 1, 1, 0, 0, 44),\n",
              "    Data(obj=(datetime.datetime(2022, 1, 1, 0, 8, 54), datetime.datetime(2022, 1, 1, 0, 0, 44)))))),\n",
              " (2,\n",
              "  ((),\n",
              "   (datetime.datetime(2022, 1, 1, 0, 8, 54),\n",
              "    datetime.datetime(2022, 1, 1, 0, 0, 44),\n",
              "    Query(obj=(datetime.datetime(2022, 1, 1, 0, 8, 54), datetime.datetime(2022, 1, 1, 0, 0, 44)))))),\n",
              " (3,\n",
              "  ((),\n",
              "   (datetime.datetime(2022, 1, 1, 0, 8, 58),\n",
              "    datetime.datetime(2022, 1, 1, 0, 6, 10),\n",
              "    Data(obj=(datetime.datetime(2022, 1, 1, 0, 8, 58), datetime.datetime(2022, 1, 1, 0, 6, 10)))))),\n",
              " (4,\n",
              "  ((),\n",
              "   (datetime.datetime(2022, 1, 1, 0, 14, 17),\n",
              "    datetime.datetime(2022, 1, 1, 0, 6, 28),\n",
              "    Data(obj=(datetime.datetime(2022, 1, 1, 0, 14, 17), datetime.datetime(2022, 1, 1, 0, 6, 28))))))]"
            ]
          },
          "metadata": {},
          "execution_count": 73
        }
      ]
    },
    {
      "cell_type": "code",
      "source": [
        "label_first_rdd = reduplicate(ordered_by_first_rdd)\n",
        "label_first_rdd.take(5), label_first_rdd.count()"
      ],
      "metadata": {
        "colab": {
          "base_uri": "https://localhost:8080/"
        },
        "id": "GVrs_2Ctxn5s",
        "outputId": "fbf1ce08-116d-48cf-a620-1558468c72d5"
      },
      "execution_count": null,
      "outputs": [
        {
          "output_type": "stream",
          "name": "stdout",
          "text": [
            "N: 133\n",
            "TREE_HEIGHT: 8\n"
          ]
        },
        {
          "output_type": "execute_result",
          "data": {
            "text/plain": [
              "([(('',),\n",
              "   (datetime.datetime(2022, 1, 1, 0, 0, 44),\n",
              "    Data(obj=(datetime.datetime(2022, 1, 1, 0, 5, 29), datetime.datetime(2022, 1, 1, 0, 0, 44))))),\n",
              "  (('0',),\n",
              "   (datetime.datetime(2022, 1, 1, 0, 0, 44),\n",
              "    Data(obj=(datetime.datetime(2022, 1, 1, 0, 5, 29), datetime.datetime(2022, 1, 1, 0, 0, 44))))),\n",
              "  (('00',),\n",
              "   (datetime.datetime(2022, 1, 1, 0, 0, 44),\n",
              "    Data(obj=(datetime.datetime(2022, 1, 1, 0, 5, 29), datetime.datetime(2022, 1, 1, 0, 0, 44))))),\n",
              "  (('000',),\n",
              "   (datetime.datetime(2022, 1, 1, 0, 0, 44),\n",
              "    Data(obj=(datetime.datetime(2022, 1, 1, 0, 5, 29), datetime.datetime(2022, 1, 1, 0, 0, 44))))),\n",
              "  (('0000',),\n",
              "   (datetime.datetime(2022, 1, 1, 0, 0, 44),\n",
              "    Data(obj=(datetime.datetime(2022, 1, 1, 0, 5, 29), datetime.datetime(2022, 1, 1, 0, 0, 44)))))],\n",
              " 539)"
            ]
          },
          "metadata": {},
          "execution_count": 74
        }
      ]
    },
    {
      "cell_type": "code",
      "source": [
        "label_first_sorted_rdd_with_rank = terra_sort_with_perfect_balance(label_first_rdd)\n",
        "label_first_sorted_rdd_with_rank.take(5), label_first_sorted_rdd_with_rank.count()"
      ],
      "metadata": {
        "colab": {
          "base_uri": "https://localhost:8080/"
        },
        "id": "6mAmzCphznPd",
        "outputId": "e15928a9-d488-4344-e153-807661d41263"
      },
      "execution_count": null,
      "outputs": [
        {
          "output_type": "stream",
          "name": "stdout",
          "text": [
            "RDD containing 539 rows.\n",
            "N: 539\n",
            "T: 7\n",
            "M: 77.0\n",
            "57.64938003975018\n",
            "P: 0.1069561781813547\n",
            "Boundaries: [(('',), datetime.datetime(2022, 1, 1, 0, 41, 32), 0), (('0',), datetime.datetime(2022, 1, 1, 0, 13, 17), 0), (('0',), datetime.datetime(2022, 1, 1, 0, 33, 50), 1), (('00011',), datetime.datetime(2022, 1, 1, 0, 27, 30), 1), (('01',), datetime.datetime(2022, 1, 1, 0, 46, 41), 0), (('010001',), datetime.datetime(2022, 1, 1, 0, 47, 55), 0), (('0110',), datetime.datetime(2022, 1, 1, 0, 56, 34), 1)]\n",
            "RDD ORG: [(('',), (datetime.datetime(2022, 1, 1, 0, 0, 44), Data(obj=(datetime.datetime(2022, 1, 1, 0, 5, 29), datetime.datetime(2022, 1, 1, 0, 0, 44))))), (('0',), (datetime.datetime(2022, 1, 1, 0, 0, 44), Data(obj=(datetime.datetime(2022, 1, 1, 0, 5, 29), datetime.datetime(2022, 1, 1, 0, 0, 44))))), (('00',), (datetime.datetime(2022, 1, 1, 0, 0, 44), Data(obj=(datetime.datetime(2022, 1, 1, 0, 5, 29), datetime.datetime(2022, 1, 1, 0, 0, 44))))), (('000',), (datetime.datetime(2022, 1, 1, 0, 0, 44), Data(obj=(datetime.datetime(2022, 1, 1, 0, 5, 29), datetime.datetime(2022, 1, 1, 0, 0, 44))))), (('0000',), (datetime.datetime(2022, 1, 1, 0, 0, 44), Data(obj=(datetime.datetime(2022, 1, 1, 0, 5, 29), datetime.datetime(2022, 1, 1, 0, 0, 44)))))]\n",
            "SHUFFLED RDD: [(0, (('',), (datetime.datetime(2022, 1, 1, 0, 0, 44), Data(obj=(datetime.datetime(2022, 1, 1, 0, 5, 29), datetime.datetime(2022, 1, 1, 0, 0, 44)))))), (0, (('',), (datetime.datetime(2022, 1, 1, 0, 0, 44), Data(obj=(datetime.datetime(2022, 1, 1, 0, 8, 54), datetime.datetime(2022, 1, 1, 0, 0, 44)))))), (0, (('',), (datetime.datetime(2022, 1, 1, 0, 6, 10), Data(obj=(datetime.datetime(2022, 1, 1, 0, 8, 58), datetime.datetime(2022, 1, 1, 0, 6, 10)))))), (0, (('',), (datetime.datetime(2022, 1, 1, 0, 6, 28), Data(obj=(datetime.datetime(2022, 1, 1, 0, 14, 17), datetime.datetime(2022, 1, 1, 0, 6, 28)))))), (0, (('',), (datetime.datetime(2022, 1, 1, 0, 9, 28), Data(obj=(datetime.datetime(2022, 1, 1, 0, 14, 42), datetime.datetime(2022, 1, 1, 0, 9, 28))))))]\n",
            "SORTED RDD: [(('',), (datetime.datetime(2022, 1, 1, 0, 0, 44), Data(obj=(datetime.datetime(2022, 1, 1, 0, 5, 29), datetime.datetime(2022, 1, 1, 0, 0, 44))))), (('',), (datetime.datetime(2022, 1, 1, 0, 0, 44), Data(obj=(datetime.datetime(2022, 1, 1, 0, 8, 54), datetime.datetime(2022, 1, 1, 0, 0, 44))))), (('',), (datetime.datetime(2022, 1, 1, 0, 5, 26), Data(obj=(datetime.datetime(2022, 1, 1, 0, 29, 5), datetime.datetime(2022, 1, 1, 0, 5, 26))))), (('',), (datetime.datetime(2022, 1, 1, 0, 5, 57), Data(obj=(datetime.datetime(2022, 1, 1, 0, 32, 31), datetime.datetime(2022, 1, 1, 0, 5, 57))))), (('',), (datetime.datetime(2022, 1, 1, 0, 6, 10), Data(obj=(datetime.datetime(2022, 1, 1, 0, 8, 58), datetime.datetime(2022, 1, 1, 0, 6, 10)))))]\n",
            "PREFIX SUMS: [0, 62, 113, 144, 271, 366, 411]\n",
            "RANKED RDD: [(0, (('',), (datetime.datetime(2022, 1, 1, 0, 0, 44), Data(obj=(datetime.datetime(2022, 1, 1, 0, 5, 29), datetime.datetime(2022, 1, 1, 0, 0, 44)))))), (1, (('',), (datetime.datetime(2022, 1, 1, 0, 0, 44), Data(obj=(datetime.datetime(2022, 1, 1, 0, 8, 54), datetime.datetime(2022, 1, 1, 0, 0, 44)))))), (2, (('',), (datetime.datetime(2022, 1, 1, 0, 5, 26), Data(obj=(datetime.datetime(2022, 1, 1, 0, 29, 5), datetime.datetime(2022, 1, 1, 0, 5, 26)))))), (3, (('',), (datetime.datetime(2022, 1, 1, 0, 5, 57), Data(obj=(datetime.datetime(2022, 1, 1, 0, 32, 31), datetime.datetime(2022, 1, 1, 0, 5, 57)))))), (4, (('',), (datetime.datetime(2022, 1, 1, 0, 6, 10), Data(obj=(datetime.datetime(2022, 1, 1, 0, 8, 58), datetime.datetime(2022, 1, 1, 0, 6, 10))))))]\n",
            "PERFECTLY BALANCED: [([0], 77), ([1], 77), ([2], 77), ([3], 77), ([4], 77), ([5], 77), ([6], 77)]\n"
          ]
        },
        {
          "output_type": "execute_result",
          "data": {
            "text/plain": [
              "([(0,\n",
              "   (('',),\n",
              "    (datetime.datetime(2022, 1, 1, 0, 0, 44),\n",
              "     Data(obj=(datetime.datetime(2022, 1, 1, 0, 5, 29), datetime.datetime(2022, 1, 1, 0, 0, 44)))))),\n",
              "  (1,\n",
              "   (('',),\n",
              "    (datetime.datetime(2022, 1, 1, 0, 0, 44),\n",
              "     Data(obj=(datetime.datetime(2022, 1, 1, 0, 8, 54), datetime.datetime(2022, 1, 1, 0, 0, 44)))))),\n",
              "  (2,\n",
              "   (('',),\n",
              "    (datetime.datetime(2022, 1, 1, 0, 5, 26),\n",
              "     Data(obj=(datetime.datetime(2022, 1, 1, 0, 29, 5), datetime.datetime(2022, 1, 1, 0, 5, 26)))))),\n",
              "  (3,\n",
              "   (('',),\n",
              "    (datetime.datetime(2022, 1, 1, 0, 5, 57),\n",
              "     Data(obj=(datetime.datetime(2022, 1, 1, 0, 32, 31), datetime.datetime(2022, 1, 1, 0, 5, 57)))))),\n",
              "  (4,\n",
              "   (('',),\n",
              "    (datetime.datetime(2022, 1, 1, 0, 6, 10),\n",
              "     Data(obj=(datetime.datetime(2022, 1, 1, 0, 8, 58), datetime.datetime(2022, 1, 1, 0, 6, 10))))))],\n",
              " 539)"
            ]
          },
          "metadata": {},
          "execution_count": 79
        }
      ]
    },
    {
      "cell_type": "code",
      "source": [
        "label_first_sorted_rdd = label_first_sorted_rdd_with_rank.map(lambda x: x[1])\n",
        "label_first_sorted_rdd.take(5)"
      ],
      "metadata": {
        "colab": {
          "base_uri": "https://localhost:8080/"
        },
        "id": "XrlYoKNCg5LR",
        "outputId": "064960e2-2372-4ff6-ca08-0bf3f9c34f8f"
      },
      "execution_count": null,
      "outputs": [
        {
          "output_type": "execute_result",
          "data": {
            "text/plain": [
              "[(('',),\n",
              "  (datetime.datetime(2022, 1, 1, 0, 0, 44),\n",
              "   Data(obj=(datetime.datetime(2022, 1, 1, 0, 5, 29), datetime.datetime(2022, 1, 1, 0, 0, 44))))),\n",
              " (('',),\n",
              "  (datetime.datetime(2022, 1, 1, 0, 0, 44),\n",
              "   Data(obj=(datetime.datetime(2022, 1, 1, 0, 8, 54), datetime.datetime(2022, 1, 1, 0, 0, 44))))),\n",
              " (('',),\n",
              "  (datetime.datetime(2022, 1, 1, 0, 5, 26),\n",
              "   Data(obj=(datetime.datetime(2022, 1, 1, 0, 29, 5), datetime.datetime(2022, 1, 1, 0, 5, 26))))),\n",
              " (('',),\n",
              "  (datetime.datetime(2022, 1, 1, 0, 5, 57),\n",
              "   Data(obj=(datetime.datetime(2022, 1, 1, 0, 32, 31), datetime.datetime(2022, 1, 1, 0, 5, 57))))),\n",
              " (('',),\n",
              "  (datetime.datetime(2022, 1, 1, 0, 6, 10),\n",
              "   Data(obj=(datetime.datetime(2022, 1, 1, 0, 8, 58), datetime.datetime(2022, 1, 1, 0, 6, 10)))))]"
            ]
          },
          "metadata": {},
          "execution_count": 80
        }
      ]
    },
    {
      "cell_type": "code",
      "source": [
        "N"
      ],
      "metadata": {
        "colab": {
          "base_uri": "https://localhost:8080/"
        },
        "id": "5137qE4X67ru",
        "outputId": "f786ff61-b784-4d5a-9d82-9af20354792a"
      },
      "execution_count": null,
      "outputs": [
        {
          "output_type": "execute_result",
          "data": {
            "text/plain": [
              "539"
            ]
          },
          "metadata": {},
          "execution_count": 76
        }
      ]
    },
    {
      "cell_type": "markdown",
      "source": [
        "### Calculate counts\n"
      ],
      "metadata": {
        "id": "tWiPoI3E04a8"
      }
    },
    {
      "cell_type": "code",
      "source": [
        "from numpy.lib.twodim_base import triu_indices\n",
        "def compute_queries_and_count_last_label(partition_idx, partition):\n",
        "  processing_first_label = triu_indices\n",
        "  last_labels = None\n",
        "  count = 0\n",
        "  queries = []\n",
        "  first_labels_objs = []\n",
        "  for obj in partition:\n",
        "    labels, (*_dims, point) = obj\n",
        "    if last_labels != labels:\n",
        "      if last_labels != None:\n",
        "        processing_first_label = False\n",
        "      last_labels = labels\n",
        "      count = 0\n",
        "    if processing_first_label:\n",
        "      first_labels_objs.append(obj)\n",
        "    if isinstance(point, Data):\n",
        "      count += 1\n",
        "    if isinstance(point, Query) and not processing_first_label:\n",
        "      queries.append((point.obj, count))\n",
        "  last_label_count = (last_labels, partition_idx, count)\n",
        "  yield (last_label_count, first_labels_objs, queries)\n",
        "\n",
        "initially_processed_rdd = label_first_sorted_rdd.mapPartitionsWithIndex(compute_queries_and_count_last_label)\n",
        "initially_processed_rdd.take(2)"
      ],
      "metadata": {
        "colab": {
          "base_uri": "https://localhost:8080/"
        },
        "id": "4xNzTPRv03yU",
        "outputId": "3ecf26f0-c610-479a-8a84-9c7f34543583"
      },
      "execution_count": 142,
      "outputs": [
        {
          "output_type": "execute_result",
          "data": {
            "text/plain": [
              "[((('',), 0, 77),\n",
              "  [(('',),\n",
              "    (datetime.datetime(2022, 1, 1, 0, 0, 44),\n",
              "     Data(obj=(datetime.datetime(2022, 1, 1, 0, 5, 29), datetime.datetime(2022, 1, 1, 0, 0, 44))))),\n",
              "   (('',),\n",
              "    (datetime.datetime(2022, 1, 1, 0, 0, 44),\n",
              "     Data(obj=(datetime.datetime(2022, 1, 1, 0, 8, 54), datetime.datetime(2022, 1, 1, 0, 0, 44))))),\n",
              "   (('',),\n",
              "    (datetime.datetime(2022, 1, 1, 0, 5, 26),\n",
              "     Data(obj=(datetime.datetime(2022, 1, 1, 0, 29, 5), datetime.datetime(2022, 1, 1, 0, 5, 26))))),\n",
              "   (('',),\n",
              "    (datetime.datetime(2022, 1, 1, 0, 5, 57),\n",
              "     Data(obj=(datetime.datetime(2022, 1, 1, 0, 32, 31), datetime.datetime(2022, 1, 1, 0, 5, 57))))),\n",
              "   (('',),\n",
              "    (datetime.datetime(2022, 1, 1, 0, 6, 10),\n",
              "     Data(obj=(datetime.datetime(2022, 1, 1, 0, 8, 58), datetime.datetime(2022, 1, 1, 0, 6, 10))))),\n",
              "   (('',),\n",
              "    (datetime.datetime(2022, 1, 1, 0, 6, 28),\n",
              "     Data(obj=(datetime.datetime(2022, 1, 1, 0, 14, 17), datetime.datetime(2022, 1, 1, 0, 6, 28))))),\n",
              "   (('',),\n",
              "    (datetime.datetime(2022, 1, 1, 0, 9, 1),\n",
              "     Data(obj=(datetime.datetime(2022, 1, 1, 0, 17, 15), datetime.datetime(2022, 1, 1, 0, 9, 1))))),\n",
              "   (('',),\n",
              "    (datetime.datetime(2022, 1, 1, 0, 9, 28),\n",
              "     Data(obj=(datetime.datetime(2022, 1, 1, 0, 14, 42), datetime.datetime(2022, 1, 1, 0, 9, 28))))),\n",
              "   (('',),\n",
              "    (datetime.datetime(2022, 1, 1, 0, 10, 27),\n",
              "     Data(obj=(datetime.datetime(2022, 1, 1, 0, 41, 59), datetime.datetime(2022, 1, 1, 0, 10, 27))))),\n",
              "   (('',),\n",
              "    (datetime.datetime(2022, 1, 1, 0, 11, 20),\n",
              "     Data(obj=(datetime.datetime(2022, 1, 1, 0, 28, 44), datetime.datetime(2022, 1, 1, 0, 11, 20))))),\n",
              "   (('',),\n",
              "    (datetime.datetime(2022, 1, 1, 0, 11, 39),\n",
              "     Data(obj=(datetime.datetime(2022, 1, 1, 0, 36, 4), datetime.datetime(2022, 1, 1, 0, 11, 39))))),\n",
              "   (('',),\n",
              "    (datetime.datetime(2022, 1, 1, 0, 12),\n",
              "     Data(obj=(datetime.datetime(2022, 1, 1, 0, 22, 47), datetime.datetime(2022, 1, 1, 0, 12))))),\n",
              "   (('',),\n",
              "    (datetime.datetime(2022, 1, 1, 0, 13, 4),\n",
              "     Data(obj=(datetime.datetime(2022, 1, 1, 0, 22, 45), datetime.datetime(2022, 1, 1, 0, 13, 4))))),\n",
              "   (('',),\n",
              "    (datetime.datetime(2022, 1, 1, 0, 13, 17),\n",
              "     Data(obj=(datetime.datetime(2022, 1, 1, 0, 18, 10), datetime.datetime(2022, 1, 1, 0, 13, 17))))),\n",
              "   (('',),\n",
              "    (datetime.datetime(2022, 1, 1, 0, 13, 35),\n",
              "     Data(obj=(datetime.datetime(2022, 1, 1, 0, 25, 52), datetime.datetime(2022, 1, 1, 0, 13, 35))))),\n",
              "   (('',),\n",
              "    (datetime.datetime(2022, 1, 1, 0, 14),\n",
              "     Data(obj=(datetime.datetime(2022, 1, 1, 0, 35, 24), datetime.datetime(2022, 1, 1, 0, 14))))),\n",
              "   (('',),\n",
              "    (datetime.datetime(2022, 1, 1, 0, 15, 35),\n",
              "     Data(obj=(datetime.datetime(2022, 1, 1, 0, 20, 49), datetime.datetime(2022, 1, 1, 0, 15, 35))))),\n",
              "   (('',),\n",
              "    (datetime.datetime(2022, 1, 1, 0, 15, 37),\n",
              "     Data(obj=(datetime.datetime(2022, 1, 1, 0, 31, 13), datetime.datetime(2022, 1, 1, 0, 15, 37))))),\n",
              "   (('',),\n",
              "    (datetime.datetime(2022, 1, 1, 0, 15, 42),\n",
              "     Data(obj=(datetime.datetime(2022, 1, 1, 0, 20, 33), datetime.datetime(2022, 1, 1, 0, 15, 42))))),\n",
              "   (('',),\n",
              "    (datetime.datetime(2022, 1, 1, 0, 17, 11),\n",
              "     Data(obj=(datetime.datetime(2022, 1, 1, 0, 36, 10), datetime.datetime(2022, 1, 1, 0, 17, 11))))),\n",
              "   (('',),\n",
              "    (datetime.datetime(2022, 1, 1, 0, 17, 55),\n",
              "     Data(obj=(datetime.datetime(2022, 1, 1, 0, 27, 45), datetime.datetime(2022, 1, 1, 0, 17, 55))))),\n",
              "   (('',),\n",
              "    (datetime.datetime(2022, 1, 1, 0, 19, 52),\n",
              "     Data(obj=(datetime.datetime(2022, 1, 1, 0, 26, 57), datetime.datetime(2022, 1, 1, 0, 19, 52))))),\n",
              "   (('',),\n",
              "    (datetime.datetime(2022, 1, 1, 0, 20, 50),\n",
              "     Data(obj=(datetime.datetime(2022, 1, 1, 0, 34, 58), datetime.datetime(2022, 1, 1, 0, 20, 50))))),\n",
              "   (('',),\n",
              "    (datetime.datetime(2022, 1, 1, 0, 21, 1),\n",
              "     Data(obj=(datetime.datetime(2022, 1, 1, 0, 25, 53), datetime.datetime(2022, 1, 1, 0, 21, 1))))),\n",
              "   (('',),\n",
              "    (datetime.datetime(2022, 1, 1, 0, 22, 3),\n",
              "     Data(obj=(datetime.datetime(2022, 1, 1, 0, 25, 37), datetime.datetime(2022, 1, 1, 0, 22, 3))))),\n",
              "   (('',),\n",
              "    (datetime.datetime(2022, 1, 1, 0, 23, 40),\n",
              "     Data(obj=(datetime.datetime(2022, 1, 1, 0, 30, 14), datetime.datetime(2022, 1, 1, 0, 23, 40))))),\n",
              "   (('',),\n",
              "    (datetime.datetime(2022, 1, 1, 0, 23, 54),\n",
              "     Data(obj=(datetime.datetime(2022, 1, 1, 0, 28, 42), datetime.datetime(2022, 1, 1, 0, 23, 54))))),\n",
              "   (('',),\n",
              "    (datetime.datetime(2022, 1, 1, 0, 24, 13),\n",
              "     Data(obj=(datetime.datetime(2022, 1, 1, 0, 38, 50), datetime.datetime(2022, 1, 1, 0, 24, 13))))),\n",
              "   (('',),\n",
              "    (datetime.datetime(2022, 1, 1, 0, 25, 21),\n",
              "     Data(obj=(datetime.datetime(2022, 1, 1, 0, 35, 23), datetime.datetime(2022, 1, 1, 0, 25, 21))))),\n",
              "   (('',),\n",
              "    (datetime.datetime(2022, 1, 1, 0, 25, 31),\n",
              "     Data(obj=(datetime.datetime(2022, 1, 1, 0, 34, 7), datetime.datetime(2022, 1, 1, 0, 25, 31))))),\n",
              "   (('',),\n",
              "    (datetime.datetime(2022, 1, 1, 0, 26, 4),\n",
              "     Data(obj=(datetime.datetime(2022, 1, 1, 0, 44, 54), datetime.datetime(2022, 1, 1, 0, 26, 4))))),\n",
              "   (('',),\n",
              "    (datetime.datetime(2022, 1, 1, 0, 27, 30),\n",
              "     Data(obj=(datetime.datetime(2022, 1, 1, 0, 32, 51), datetime.datetime(2022, 1, 1, 0, 27, 30))))),\n",
              "   (('',),\n",
              "    (datetime.datetime(2022, 1, 1, 0, 29, 45),\n",
              "     Data(obj=(datetime.datetime(2022, 1, 1, 0, 42, 2), datetime.datetime(2022, 1, 1, 0, 29, 45))))),\n",
              "   (('',),\n",
              "    (datetime.datetime(2022, 1, 1, 0, 30, 2),\n",
              "     Data(obj=(datetime.datetime(2022, 1, 1, 0, 44, 49), datetime.datetime(2022, 1, 1, 0, 30, 2))))),\n",
              "   (('',),\n",
              "    (datetime.datetime(2022, 1, 1, 0, 30, 6),\n",
              "     Data(obj=(datetime.datetime(2022, 1, 1, 0, 38, 11), datetime.datetime(2022, 1, 1, 0, 30, 6))))),\n",
              "   (('',),\n",
              "    (datetime.datetime(2022, 1, 1, 0, 30, 20),\n",
              "     Data(obj=(datetime.datetime(2022, 1, 1, 0, 52, 10), datetime.datetime(2022, 1, 1, 0, 30, 20))))),\n",
              "   (('',),\n",
              "    (datetime.datetime(2022, 1, 1, 0, 30, 35),\n",
              "     Data(obj=(datetime.datetime(2022, 1, 1, 0, 46, 45), datetime.datetime(2022, 1, 1, 0, 30, 35))))),\n",
              "   (('',),\n",
              "    (datetime.datetime(2022, 1, 1, 0, 31, 6),\n",
              "     Data(obj=(datetime.datetime(2022, 1, 1, 0, 34, 14), datetime.datetime(2022, 1, 1, 0, 31, 6))))),\n",
              "   (('',),\n",
              "    (datetime.datetime(2022, 1, 1, 0, 31, 6),\n",
              "     Data(obj=(datetime.datetime(2022, 1, 1, 0, 58, 26), datetime.datetime(2022, 1, 1, 0, 31, 6))))),\n",
              "   (('',),\n",
              "    (datetime.datetime(2022, 1, 1, 0, 31, 12),\n",
              "     Data(obj=(datetime.datetime(2022, 1, 2, 0, 0, 58), datetime.datetime(2022, 1, 1, 0, 31, 12))))),\n",
              "   (('',),\n",
              "    (datetime.datetime(2022, 1, 1, 0, 31, 45),\n",
              "     Data(obj=(datetime.datetime(2022, 1, 1, 0, 53, 16), datetime.datetime(2022, 1, 1, 0, 31, 45))))),\n",
              "   (('',),\n",
              "    (datetime.datetime(2022, 1, 1, 0, 32, 24),\n",
              "     Data(obj=(datetime.datetime(2022, 1, 1, 0, 34, 54), datetime.datetime(2022, 1, 1, 0, 32, 24))))),\n",
              "   (('',),\n",
              "    (datetime.datetime(2022, 1, 1, 0, 32, 27),\n",
              "     Data(obj=(datetime.datetime(2022, 1, 1, 0, 39, 38), datetime.datetime(2022, 1, 1, 0, 32, 27))))),\n",
              "   (('',),\n",
              "    (datetime.datetime(2022, 1, 1, 0, 32, 36),\n",
              "     Data(obj=(datetime.datetime(2022, 1, 1, 0, 36, 56), datetime.datetime(2022, 1, 1, 0, 32, 36))))),\n",
              "   (('',),\n",
              "    (datetime.datetime(2022, 1, 1, 0, 33, 42),\n",
              "     Data(obj=(datetime.datetime(2022, 1, 1, 1, 1, 49), datetime.datetime(2022, 1, 1, 0, 33, 42))))),\n",
              "   (('',),\n",
              "    (datetime.datetime(2022, 1, 1, 0, 33, 43),\n",
              "     Data(obj=(datetime.datetime(2022, 1, 1, 0, 42, 7), datetime.datetime(2022, 1, 1, 0, 33, 43))))),\n",
              "   (('',),\n",
              "    (datetime.datetime(2022, 1, 1, 0, 33, 50),\n",
              "     Data(obj=(datetime.datetime(2022, 1, 1, 0, 52, 14), datetime.datetime(2022, 1, 1, 0, 33, 50))))),\n",
              "   (('',),\n",
              "    (datetime.datetime(2022, 1, 1, 0, 33, 52),\n",
              "     Data(obj=(datetime.datetime(2022, 1, 1, 0, 47, 28), datetime.datetime(2022, 1, 1, 0, 33, 52))))),\n",
              "   (('',),\n",
              "    (datetime.datetime(2022, 1, 1, 0, 34, 12),\n",
              "     Data(obj=(datetime.datetime(2022, 1, 1, 0, 56, 25), datetime.datetime(2022, 1, 1, 0, 34, 12))))),\n",
              "   (('',),\n",
              "    (datetime.datetime(2022, 1, 1, 0, 34, 34),\n",
              "     Data(obj=(datetime.datetime(2022, 1, 1, 1, 8, 45), datetime.datetime(2022, 1, 1, 0, 34, 34))))),\n",
              "   (('',),\n",
              "    (datetime.datetime(2022, 1, 1, 0, 35, 40),\n",
              "     Data(obj=(datetime.datetime(2022, 1, 1, 0, 53, 29), datetime.datetime(2022, 1, 1, 0, 35, 40))))),\n",
              "   (('',),\n",
              "    (datetime.datetime(2022, 1, 1, 0, 35, 50),\n",
              "     Data(obj=(datetime.datetime(2022, 1, 1, 0, 48, 33), datetime.datetime(2022, 1, 1, 0, 35, 50))))),\n",
              "   (('',),\n",
              "    (datetime.datetime(2022, 1, 1, 0, 36, 2),\n",
              "     Data(obj=(datetime.datetime(2022, 1, 1, 0, 46, 6), datetime.datetime(2022, 1, 1, 0, 36, 2))))),\n",
              "   (('',),\n",
              "    (datetime.datetime(2022, 1, 1, 0, 36, 48),\n",
              "     Data(obj=(datetime.datetime(2022, 1, 1, 1, 14, 20), datetime.datetime(2022, 1, 1, 0, 36, 48))))),\n",
              "   (('',),\n",
              "    (datetime.datetime(2022, 1, 1, 0, 37, 15),\n",
              "     Data(obj=(datetime.datetime(2022, 1, 1, 0, 52, 51), datetime.datetime(2022, 1, 1, 0, 37, 15))))),\n",
              "   (('',),\n",
              "    (datetime.datetime(2022, 1, 1, 0, 39, 46),\n",
              "     Data(obj=(datetime.datetime(2022, 1, 1, 0, 46, 16), datetime.datetime(2022, 1, 1, 0, 39, 46))))),\n",
              "   (('',),\n",
              "    (datetime.datetime(2022, 1, 1, 0, 39, 46),\n",
              "     Data(obj=(datetime.datetime(2022, 1, 1, 0, 47, 36), datetime.datetime(2022, 1, 1, 0, 39, 46))))),\n",
              "   (('',),\n",
              "    (datetime.datetime(2022, 1, 1, 0, 40, 15),\n",
              "     Data(obj=(datetime.datetime(2022, 1, 1, 1, 9, 48), datetime.datetime(2022, 1, 1, 0, 40, 15))))),\n",
              "   (('',),\n",
              "    (datetime.datetime(2022, 1, 1, 0, 40, 18),\n",
              "     Data(obj=(datetime.datetime(2022, 1, 1, 1, 2, 50), datetime.datetime(2022, 1, 1, 0, 40, 18))))),\n",
              "   (('',),\n",
              "    (datetime.datetime(2022, 1, 1, 0, 40, 45),\n",
              "     Data(obj=(datetime.datetime(2022, 1, 1, 0, 47, 22), datetime.datetime(2022, 1, 1, 0, 40, 45))))),\n",
              "   (('',),\n",
              "    (datetime.datetime(2022, 1, 1, 0, 40, 57),\n",
              "     Data(obj=(datetime.datetime(2022, 1, 1, 1, 12, 8), datetime.datetime(2022, 1, 1, 0, 40, 57))))),\n",
              "   (('',),\n",
              "    (datetime.datetime(2022, 1, 1, 0, 41, 7),\n",
              "     Data(obj=(datetime.datetime(2022, 1, 1, 0, 44, 46), datetime.datetime(2022, 1, 1, 0, 41, 7))))),\n",
              "   (('',),\n",
              "    (datetime.datetime(2022, 1, 1, 0, 41, 32),\n",
              "     Data(obj=(datetime.datetime(2022, 1, 1, 0, 45, 35), datetime.datetime(2022, 1, 1, 0, 41, 32))))),\n",
              "   (('',),\n",
              "    (datetime.datetime(2022, 1, 1, 0, 42, 45),\n",
              "     Data(obj=(datetime.datetime(2022, 1, 1, 0, 56, 15), datetime.datetime(2022, 1, 1, 0, 42, 45))))),\n",
              "   (('',),\n",
              "    (datetime.datetime(2022, 1, 1, 0, 43, 15),\n",
              "     Data(obj=(datetime.datetime(2022, 1, 1, 1, 1, 35), datetime.datetime(2022, 1, 1, 0, 43, 15))))),\n",
              "   (('',),\n",
              "    (datetime.datetime(2022, 1, 1, 0, 43, 49),\n",
              "     Data(obj=(datetime.datetime(2022, 1, 1, 1, 3, 6), datetime.datetime(2022, 1, 1, 0, 43, 49))))),\n",
              "   (('',),\n",
              "    (datetime.datetime(2022, 1, 1, 0, 44, 36),\n",
              "     Data(obj=(datetime.datetime(2022, 1, 1, 0, 52, 26), datetime.datetime(2022, 1, 1, 0, 44, 36))))),\n",
              "   (('',),\n",
              "    (datetime.datetime(2022, 1, 1, 0, 45, 45),\n",
              "     Data(obj=(datetime.datetime(2022, 1, 1, 1, 1, 45), datetime.datetime(2022, 1, 1, 0, 45, 45))))),\n",
              "   (('',),\n",
              "    (datetime.datetime(2022, 1, 1, 0, 46, 9),\n",
              "     Data(obj=(datetime.datetime(2022, 1, 1, 1, 8, 6), datetime.datetime(2022, 1, 1, 0, 46, 9))))),\n",
              "   (('',),\n",
              "    (datetime.datetime(2022, 1, 1, 0, 46, 19),\n",
              "     Data(obj=(datetime.datetime(2022, 1, 1, 1, 15, 22), datetime.datetime(2022, 1, 1, 0, 46, 19))))),\n",
              "   (('',),\n",
              "    (datetime.datetime(2022, 1, 1, 0, 46, 41),\n",
              "     Data(obj=(datetime.datetime(2022, 1, 1, 0, 57, 53), datetime.datetime(2022, 1, 1, 0, 46, 41))))),\n",
              "   (('',),\n",
              "    (datetime.datetime(2022, 1, 1, 0, 47, 55),\n",
              "     Data(obj=(datetime.datetime(2022, 1, 1, 0, 52, 56), datetime.datetime(2022, 1, 1, 0, 47, 55))))),\n",
              "   (('',),\n",
              "    (datetime.datetime(2022, 1, 1, 0, 48, 52),\n",
              "     Data(obj=(datetime.datetime(2022, 1, 1, 0, 53, 28), datetime.datetime(2022, 1, 1, 0, 48, 52))))),\n",
              "   (('',),\n",
              "    (datetime.datetime(2022, 1, 1, 0, 49, 14),\n",
              "     Data(obj=(datetime.datetime(2022, 1, 1, 0, 58, 29), datetime.datetime(2022, 1, 1, 0, 49, 14))))),\n",
              "   (('',),\n",
              "    (datetime.datetime(2022, 1, 1, 0, 49, 40),\n",
              "     Data(obj=(datetime.datetime(2022, 1, 1, 0, 57, 16), datetime.datetime(2022, 1, 1, 0, 49, 40))))),\n",
              "   (('',),\n",
              "    (datetime.datetime(2022, 1, 1, 0, 49, 45),\n",
              "     Data(obj=(datetime.datetime(2022, 1, 1, 1, 6, 38), datetime.datetime(2022, 1, 1, 0, 49, 45))))),\n",
              "   (('',),\n",
              "    (datetime.datetime(2022, 1, 1, 0, 50, 7),\n",
              "     Data(obj=(datetime.datetime(2022, 1, 1, 0, 55, 44), datetime.datetime(2022, 1, 1, 0, 50, 7)))))],\n",
              "  []),\n",
              " ((('0',), 1, 48),\n",
              "  [(('',),\n",
              "    (datetime.datetime(2022, 1, 1, 0, 50, 22),\n",
              "     Data(obj=(datetime.datetime(2022, 1, 1, 1, 7, 20), datetime.datetime(2022, 1, 1, 0, 50, 22))))),\n",
              "   (('',),\n",
              "    (datetime.datetime(2022, 1, 1, 0, 50, 27),\n",
              "     Data(obj=(datetime.datetime(2022, 1, 1, 0, 59, 28), datetime.datetime(2022, 1, 1, 0, 50, 27))))),\n",
              "   (('',),\n",
              "    (datetime.datetime(2022, 1, 1, 0, 51, 26),\n",
              "     Data(obj=(datetime.datetime(2022, 1, 1, 0, 58, 25), datetime.datetime(2022, 1, 1, 0, 51, 26))))),\n",
              "   (('',),\n",
              "    (datetime.datetime(2022, 1, 1, 0, 51, 40),\n",
              "     Data(obj=(datetime.datetime(2022, 1, 1, 0, 57, 29), datetime.datetime(2022, 1, 1, 0, 51, 40))))),\n",
              "   (('',),\n",
              "    (datetime.datetime(2022, 1, 1, 0, 52, 33),\n",
              "     Data(obj=(datetime.datetime(2022, 1, 1, 0, 58, 7), datetime.datetime(2022, 1, 1, 0, 52, 33))))),\n",
              "   (('',),\n",
              "    (datetime.datetime(2022, 1, 1, 0, 52, 53),\n",
              "     Data(obj=(datetime.datetime(2022, 1, 1, 1, 5, 26), datetime.datetime(2022, 1, 1, 0, 52, 53))))),\n",
              "   (('',),\n",
              "    (datetime.datetime(2022, 1, 1, 0, 53, 21),\n",
              "     Data(obj=(datetime.datetime(2022, 1, 1, 1, 2, 19), datetime.datetime(2022, 1, 1, 0, 53, 21))))),\n",
              "   (('',),\n",
              "    (datetime.datetime(2022, 1, 1, 0, 53, 54),\n",
              "     Data(obj=(datetime.datetime(2022, 1, 1, 1, 5, 20), datetime.datetime(2022, 1, 1, 0, 53, 54))))),\n",
              "   (('',),\n",
              "    (datetime.datetime(2022, 1, 1, 0, 55, 3),\n",
              "     Data(obj=(datetime.datetime(2022, 1, 1, 1, 4, 25), datetime.datetime(2022, 1, 1, 0, 55, 3))))),\n",
              "   (('',),\n",
              "    (datetime.datetime(2022, 1, 1, 0, 55, 13),\n",
              "     Data(obj=(datetime.datetime(2022, 1, 1, 1, 4, 56), datetime.datetime(2022, 1, 1, 0, 55, 13))))),\n",
              "   (('',),\n",
              "    (datetime.datetime(2022, 1, 1, 0, 55, 16),\n",
              "     Data(obj=(datetime.datetime(2022, 1, 1, 1, 6, 44), datetime.datetime(2022, 1, 1, 0, 55, 16))))),\n",
              "   (('',),\n",
              "    (datetime.datetime(2022, 1, 1, 0, 55, 48),\n",
              "     Data(obj=(datetime.datetime(2022, 1, 1, 1, 14, 24), datetime.datetime(2022, 1, 1, 0, 55, 48))))),\n",
              "   (('',),\n",
              "    (datetime.datetime(2022, 1, 1, 0, 56, 12),\n",
              "     Data(obj=(datetime.datetime(2022, 1, 1, 0, 58, 28), datetime.datetime(2022, 1, 1, 0, 56, 12))))),\n",
              "   (('',),\n",
              "    (datetime.datetime(2022, 1, 1, 0, 56, 26),\n",
              "     Data(obj=(datetime.datetime(2022, 1, 1, 1, 25, 9), datetime.datetime(2022, 1, 1, 0, 56, 26))))),\n",
              "   (('',),\n",
              "    (datetime.datetime(2022, 1, 1, 0, 56, 34),\n",
              "     Data(obj=(datetime.datetime(2022, 1, 1, 1, 12, 4), datetime.datetime(2022, 1, 1, 0, 56, 34))))),\n",
              "   (('',),\n",
              "    (datetime.datetime(2022, 1, 1, 0, 57, 37),\n",
              "     Data(obj=(datetime.datetime(2022, 1, 1, 1, 29, 35), datetime.datetime(2022, 1, 1, 0, 57, 37))))),\n",
              "   (('',),\n",
              "    (datetime.datetime(2022, 1, 1, 0, 58, 6),\n",
              "     Data(obj=(datetime.datetime(2022, 1, 1, 1, 5, 45), datetime.datetime(2022, 1, 1, 0, 58, 6))))),\n",
              "   (('',),\n",
              "    (datetime.datetime(2022, 1, 1, 0, 58, 11),\n",
              "     Data(obj=(datetime.datetime(2022, 1, 1, 1, 10, 2), datetime.datetime(2022, 1, 1, 0, 58, 11))))),\n",
              "   (('',),\n",
              "    (datetime.datetime(2022, 1, 1, 0, 58, 27),\n",
              "     Data(obj=(datetime.datetime(2022, 1, 1, 1, 23, 12), datetime.datetime(2022, 1, 1, 0, 58, 27))))),\n",
              "   (('',),\n",
              "    (datetime.datetime(2022, 1, 1, 0, 59, 1),\n",
              "     Data(obj=(datetime.datetime(2022, 1, 1, 1, 12, 34), datetime.datetime(2022, 1, 1, 0, 59, 1))))),\n",
              "   (('',),\n",
              "    (datetime.datetime(2022, 1, 1, 0, 59, 6),\n",
              "     Data(obj=(datetime.datetime(2022, 1, 1, 1, 12, 57), datetime.datetime(2022, 1, 1, 0, 59, 6))))),\n",
              "   (('',),\n",
              "    (datetime.datetime(2022, 1, 1, 1, 6, 32),\n",
              "     Data(obj=(datetime.datetime(2022, 1, 1, 1, 29, 25), datetime.datetime(2022, 1, 1, 1, 6, 32))))),\n",
              "   (('',),\n",
              "    (datetime.datetime(2022, 1, 1, 18, 4, 6),\n",
              "     Data(obj=(datetime.datetime(2022, 1, 1, 18, 40, 52), datetime.datetime(2022, 1, 1, 18, 4, 6)))))],\n",
              "  [((datetime.datetime(2022, 1, 1, 0, 58, 26),\n",
              "     datetime.datetime(2022, 1, 1, 0, 31, 6)),\n",
              "    38),\n",
              "   ((datetime.datetime(2022, 1, 1, 0, 52, 14),\n",
              "     datetime.datetime(2022, 1, 1, 0, 33, 50)),\n",
              "    43),\n",
              "   ((datetime.datetime(2022, 1, 1, 0, 53, 29),\n",
              "     datetime.datetime(2022, 1, 1, 0, 35, 40)),\n",
              "    44),\n",
              "   ((datetime.datetime(2022, 1, 1, 1, 14, 20),\n",
              "     datetime.datetime(2022, 1, 1, 0, 36, 48)),\n",
              "    46),\n",
              "   ((datetime.datetime(2022, 1, 1, 0, 52, 51),\n",
              "     datetime.datetime(2022, 1, 1, 0, 37, 15)),\n",
              "    46),\n",
              "   ((datetime.datetime(2022, 1, 1, 1, 2, 50),\n",
              "     datetime.datetime(2022, 1, 1, 0, 40, 18)),\n",
              "    48)])]"
            ]
          },
          "metadata": {},
          "execution_count": 142
        }
      ]
    },
    {
      "cell_type": "code",
      "source": [
        "last_label_counts_rdd = initially_processed_rdd.map(lambda x: x[0])\n",
        "last_label_counts = last_label_counts_rdd.collect()\n",
        "last_label_counts"
      ],
      "metadata": {
        "colab": {
          "base_uri": "https://localhost:8080/"
        },
        "id": "Y7yckpiVnbZu",
        "outputId": "7ee22291-8d9a-4355-9003-74af37be763a"
      },
      "execution_count": 143,
      "outputs": [
        {
          "output_type": "execute_result",
          "data": {
            "text/plain": [
              "[(('',), 0, 77),\n",
              " (('0',), 1, 48),\n",
              " (('000001',), 2, 2),\n",
              " (('0010001',), 3, 1),\n",
              " (('010',), 4, 1),\n",
              " (('011',), 5, 4),\n",
              " (('0111111',), 6, 1)]"
            ]
          },
          "metadata": {},
          "execution_count": 143
        }
      ]
    },
    {
      "cell_type": "code",
      "source": [
        "last_label_counts_broadcasted = sc.broadcast(last_label_counts)\n",
        "last_label_counts_broadcasted"
      ],
      "metadata": {
        "colab": {
          "base_uri": "https://localhost:8080/"
        },
        "id": "q9yCX-NIeMWv",
        "outputId": "f6621190-9cd8-46b1-a279-f6b83b01d00c"
      },
      "execution_count": null,
      "outputs": [
        {
          "output_type": "execute_result",
          "data": {
            "text/plain": [
              "<pyspark.broadcast.Broadcast at 0x7feeaf7e8550>"
            ]
          },
          "metadata": {},
          "execution_count": 95
        }
      ]
    },
    {
      "cell_type": "code",
      "source": [
        "import operator\n",
        "\n",
        "def finish_processing(partition_idx, first_labels_objs_queries):\n",
        "  last_label_counts = last_label_counts_broadcasted.value\n",
        "  first_labels_objs, queries = next(first_labels_objs_queries)\n",
        "\n",
        "  first_label = first_labels_objs[0][0]\n",
        "  count = sum(map(lambda x: x[2], filter(lambda x: x[0] == first_label and x[1] < partition_idx, last_label_counts)))\n",
        "  for obj in first_labels_objs:\n",
        "    labels, (*_dims, point) = obj\n",
        "    if isinstance(point, Data):\n",
        "      count += 1\n",
        "    if isinstance(point, Query):\n",
        "      queries.append((point.obj, count))\n",
        "  yield queries\n",
        "\n",
        "processed_rdd = initially_processed_rdd \\\n",
        "  .map(lambda x: (x[1], x[2])) \\\n",
        "  .mapPartitionsWithIndex(finish_processing) \\\n",
        "  .flatMap(lambda x: x) \\\n",
        "  .reduceByKey(operator.add) \\\n",
        "  .collect()\n",
        "\n",
        "processed_rdd"
      ],
      "metadata": {
        "colab": {
          "base_uri": "https://localhost:8080/"
        },
        "id": "3zevwSLloFjL",
        "outputId": "37d4396a-644f-416e-894f-c7f78848030e"
      },
      "execution_count": 136,
      "outputs": [
        {
          "output_type": "execute_result",
          "data": {
            "text/plain": [
              "[((datetime.datetime(2022, 1, 1, 1, 2, 50),\n",
              "   datetime.datetime(2022, 1, 1, 0, 40, 18)),\n",
              "  55),\n",
              " ((datetime.datetime(2022, 1, 1, 0, 38, 11),\n",
              "   datetime.datetime(2022, 1, 1, 0, 30, 6)),\n",
              "  30),\n",
              " ((datetime.datetime(2022, 1, 1, 0, 47, 36),\n",
              "   datetime.datetime(2022, 1, 1, 0, 39, 46)),\n",
              "  45),\n",
              " ((datetime.datetime(2022, 1, 1, 0, 44, 46),\n",
              "   datetime.datetime(2022, 1, 1, 0, 41, 7)),\n",
              "  39),\n",
              " ((datetime.datetime(2022, 1, 1, 0, 52, 56),\n",
              "   datetime.datetime(2022, 1, 1, 0, 47, 55)),\n",
              "  54),\n",
              " ((datetime.datetime(2022, 1, 1, 0, 52, 51),\n",
              "   datetime.datetime(2022, 1, 1, 0, 37, 15)),\n",
              "  47),\n",
              " ((datetime.datetime(2022, 1, 1, 1, 29, 25),\n",
              "   datetime.datetime(2022, 1, 1, 1, 6, 32)),\n",
              "  97),\n",
              " ((datetime.datetime(2022, 1, 1, 0, 53, 29),\n",
              "   datetime.datetime(2022, 1, 1, 0, 35, 40)),\n",
              "  46),\n",
              " ((datetime.datetime(2022, 1, 1, 0, 39, 38),\n",
              "   datetime.datetime(2022, 1, 1, 0, 32, 27)),\n",
              "  34),\n",
              " ((datetime.datetime(2022, 1, 1, 0, 32, 51),\n",
              "   datetime.datetime(2022, 1, 1, 0, 27, 30)),\n",
              "  23),\n",
              " ((datetime.datetime(2022, 1, 1, 1, 12, 8),\n",
              "   datetime.datetime(2022, 1, 1, 0, 40, 57)),\n",
              "  59),\n",
              " ((datetime.datetime(2022, 1, 1, 1, 29, 35),\n",
              "   datetime.datetime(2022, 1, 1, 0, 57, 37)),\n",
              "  92),\n",
              " ((datetime.datetime(2022, 1, 1, 0, 58, 26),\n",
              "   datetime.datetime(2022, 1, 1, 0, 31, 6)),\n",
              "  39),\n",
              " ((datetime.datetime(2022, 1, 1, 0, 52, 14),\n",
              "   datetime.datetime(2022, 1, 1, 0, 33, 50)),\n",
              "  43),\n",
              " ((datetime.datetime(2022, 1, 1, 0, 35, 23),\n",
              "   datetime.datetime(2022, 1, 1, 0, 25, 21)),\n",
              "  24),\n",
              " ((datetime.datetime(2022, 1, 1, 0, 27, 45),\n",
              "   datetime.datetime(2022, 1, 1, 0, 17, 55)),\n",
              "  13),\n",
              " ((datetime.datetime(2022, 1, 1, 1, 14, 20),\n",
              "   datetime.datetime(2022, 1, 1, 0, 36, 48)),\n",
              "  53),\n",
              " ((datetime.datetime(2022, 1, 1, 1, 15, 22),\n",
              "   datetime.datetime(2022, 1, 1, 0, 46, 19)),\n",
              "  69),\n",
              " ((datetime.datetime(2022, 1, 1, 0, 58, 25),\n",
              "   datetime.datetime(2022, 1, 1, 0, 51, 26)),\n",
              "  63),\n",
              " ((datetime.datetime(2022, 1, 1, 0, 34, 58),\n",
              "   datetime.datetime(2022, 1, 1, 0, 20, 50)),\n",
              "  19),\n",
              " ((datetime.datetime(2022, 1, 1, 0, 32, 31),\n",
              "   datetime.datetime(2022, 1, 1, 0, 5, 57)),\n",
              "  4),\n",
              " ((datetime.datetime(2022, 1, 1, 0, 8, 54),\n",
              "   datetime.datetime(2022, 1, 1, 0, 0, 44)),\n",
              "  2),\n",
              " ((datetime.datetime(2022, 1, 1, 0, 46, 45),\n",
              "   datetime.datetime(2022, 1, 1, 0, 30, 35)),\n",
              "  36),\n",
              " ((datetime.datetime(2022, 1, 1, 0, 22, 47),\n",
              "   datetime.datetime(2022, 1, 1, 0, 12)),\n",
              "  7),\n",
              " ((datetime.datetime(2022, 1, 1, 0, 14, 42),\n",
              "   datetime.datetime(2022, 1, 1, 0, 9, 28)),\n",
              "  5),\n",
              " ((datetime.datetime(2022, 1, 1, 1, 4, 25),\n",
              "   datetime.datetime(2022, 1, 1, 0, 55, 3)),\n",
              "  75),\n",
              " ((datetime.datetime(2022, 1, 1, 1, 12, 4),\n",
              "   datetime.datetime(2022, 1, 1, 0, 56, 34)),\n",
              "  86)]"
            ]
          },
          "metadata": {},
          "execution_count": 136
        }
      ]
    },
    {
      "cell_type": "markdown",
      "source": [
        "### All in one place"
      ],
      "metadata": {
        "id": "TgP69MJ0vjXu"
      }
    },
    {
      "cell_type": "code",
      "source": [
        "def all_in_one_place(rdd):\n",
        "  global last_label_counts_broadcasted\n",
        "\n",
        "  ordered_by_first_rdd = terra_sort_with_perfect_balance(rdd)\n",
        "  ordered_by_first_rdd.take(5)\n",
        "\n",
        "  label_first_rdd = reduplicate(ordered_by_first_rdd)\n",
        "  print(f\"Label first rdd, count: {label_first_rdd.take(5), label_first_rdd.count()}\")\n",
        "  \n",
        "  label_first_sorted_rdd_with_rank = terra_sort_with_perfect_balance(label_first_rdd)\n",
        "  print(f\"Label first sorted rdd with rank, count: {label_first_sorted_rdd_with_rank.take(5), label_first_sorted_rdd_with_rank.count()}\")\n",
        "  \n",
        "\n",
        "  label_first_sorted_rdd = label_first_sorted_rdd_with_rank.map(lambda x: x[1])\n",
        "  initially_processed_rdd = label_first_sorted_rdd.mapPartitionsWithIndex(compute_queries_and_count_last_label)\n",
        "  last_label_counts_rdd = initially_processed_rdd.map(lambda x: x[0])\n",
        "  last_label_counts = last_label_counts_rdd.collect()\n",
        "  print(f\"Last label counts: {last_label_counts}\")\n",
        "  last_label_counts_broadcasted = sc.broadcast(last_label_counts)\n",
        "  last_label_counts_broadcasted\n",
        "\n",
        "  processed_rdd = initially_processed_rdd \\\n",
        "    .map(lambda x: (x[1], x[2])) \\\n",
        "    .mapPartitionsWithIndex(finish_processing) \\\n",
        "    .flatMap(lambda x: x) \\\n",
        "    .reduceByKey(operator.add)\n",
        "\n",
        "  return processed_rdd"
      ],
      "metadata": {
        "id": "iBjHWMJKvfeS"
      },
      "execution_count": 150,
      "outputs": []
    },
    {
      "cell_type": "code",
      "source": [
        "def all_in_one_place_preprocessing(org_rdd):\n",
        "  rdd = org_rdd.flatMap(add_query).map(add_label_placeholder)\n",
        "  print(f\"RDD: {rdd.take(5)}\")\n",
        "  return all_in_one_place(rdd)\n"
      ],
      "metadata": {
        "id": "t4wQU-KWxuH1"
      },
      "execution_count": 151,
      "outputs": []
    },
    {
      "cell_type": "code",
      "source": [
        "processed_rdd = all_in_one_place_preprocessing(org_rdd)\n",
        "processed_rdd.collect()"
      ],
      "metadata": {
        "colab": {
          "base_uri": "https://localhost:8080/"
        },
        "id": "8I3zneNSxNs5",
        "outputId": "4360fd4e-107b-4b4b-c1ac-c2ee643426b6"
      },
      "execution_count": 152,
      "outputs": [
        {
          "output_type": "stream",
          "name": "stdout",
          "text": [
            "RDD: [((), (datetime.datetime(2022, 1, 1, 0, 53, 29), datetime.datetime(2022, 1, 1, 0, 35, 40), Data(obj=(datetime.datetime(2022, 1, 1, 0, 53, 29), datetime.datetime(2022, 1, 1, 0, 35, 40))))), ((), (datetime.datetime(2022, 1, 1, 0, 53, 29), datetime.datetime(2022, 1, 1, 0, 35, 40), Query(obj=(datetime.datetime(2022, 1, 1, 0, 53, 29), datetime.datetime(2022, 1, 1, 0, 35, 40))))), ((), (datetime.datetime(2022, 1, 1, 0, 42, 7), datetime.datetime(2022, 1, 1, 0, 33, 43), Data(obj=(datetime.datetime(2022, 1, 1, 0, 42, 7), datetime.datetime(2022, 1, 1, 0, 33, 43))))), ((), (datetime.datetime(2022, 1, 1, 1, 2, 19), datetime.datetime(2022, 1, 1, 0, 53, 21), Data(obj=(datetime.datetime(2022, 1, 1, 1, 2, 19), datetime.datetime(2022, 1, 1, 0, 53, 21))))), ((), (datetime.datetime(2022, 1, 1, 0, 35, 23), datetime.datetime(2022, 1, 1, 0, 25, 21), Data(obj=(datetime.datetime(2022, 1, 1, 0, 35, 23), datetime.datetime(2022, 1, 1, 0, 25, 21)))))]\n",
            "RDD containing 127 rows.\n",
            "Adding 6 dummy rows\n",
            "N: 133\n",
            "T: 7\n",
            "M: 19.0\n",
            "47.85381494093947\n",
            "Warning M < T * log(N * T): 19.0 < 47.85381494093947\n",
            "P: 0.3598031198566877\n",
            "Boundaries: [((), datetime.datetime(2022, 1, 1, 0, 25, 53), 0), ((), datetime.datetime(2022, 1, 1, 0, 34, 7), 0), ((), datetime.datetime(2022, 1, 1, 0, 41, 59), 0), ((), datetime.datetime(2022, 1, 1, 0, 52, 14), 1), ((), datetime.datetime(2022, 1, 1, 0, 57, 29), 0), ((), datetime.datetime(2022, 1, 1, 1, 4, 25), 0), ((), datetime.datetime(2022, 1, 1, 1, 29, 25), 0)]\n",
            "RDD ORG: [((), (datetime.datetime(2022, 1, 1, 0, 31, 13), datetime.datetime(2022, 1, 1, 0, 15, 37), Data(obj=(datetime.datetime(2022, 1, 1, 0, 31, 13), datetime.datetime(2022, 1, 1, 0, 15, 37))))), ((), (datetime.datetime(2022, 1, 1, 1, 2, 50), datetime.datetime(2022, 1, 1, 0, 40, 18), Data(obj=(datetime.datetime(2022, 1, 1, 1, 2, 50), datetime.datetime(2022, 1, 1, 0, 40, 18))))), ((), (datetime.datetime(2022, 1, 1, 1, 2, 50), datetime.datetime(2022, 1, 1, 0, 40, 18), Query(obj=(datetime.datetime(2022, 1, 1, 1, 2, 50), datetime.datetime(2022, 1, 1, 0, 40, 18))))), ((), (datetime.datetime(2022, 1, 1, 0, 27, 45), datetime.datetime(2022, 1, 1, 0, 17, 55), Data(obj=(datetime.datetime(2022, 1, 1, 0, 27, 45), datetime.datetime(2022, 1, 1, 0, 17, 55))))), ((), (datetime.datetime(2022, 1, 1, 0, 27, 45), datetime.datetime(2022, 1, 1, 0, 17, 55), Query(obj=(datetime.datetime(2022, 1, 1, 0, 27, 45), datetime.datetime(2022, 1, 1, 0, 17, 55)))))]\n",
            "SHUFFLED RDD: [(0, ((), (datetime.datetime(2022, 1, 1, 0, 22, 47), datetime.datetime(2022, 1, 1, 0, 12), Data(obj=(datetime.datetime(2022, 1, 1, 0, 22, 47), datetime.datetime(2022, 1, 1, 0, 12)))))), (0, ((), (datetime.datetime(2022, 1, 1, 0, 22, 47), datetime.datetime(2022, 1, 1, 0, 12), Query(obj=(datetime.datetime(2022, 1, 1, 0, 22, 47), datetime.datetime(2022, 1, 1, 0, 12)))))), (0, ((), (datetime.datetime(2022, 1, 1, 0, 8, 54), datetime.datetime(2022, 1, 1, 0, 0, 44), Data(obj=(datetime.datetime(2022, 1, 1, 0, 8, 54), datetime.datetime(2022, 1, 1, 0, 0, 44)))))), (0, ((), (datetime.datetime(2022, 1, 1, 0, 8, 54), datetime.datetime(2022, 1, 1, 0, 0, 44), Query(obj=(datetime.datetime(2022, 1, 1, 0, 8, 54), datetime.datetime(2022, 1, 1, 0, 0, 44)))))), (0, ((), (datetime.datetime(2022, 1, 1, 0, 14, 42), datetime.datetime(2022, 1, 1, 0, 9, 28), Data(obj=(datetime.datetime(2022, 1, 1, 0, 14, 42), datetime.datetime(2022, 1, 1, 0, 9, 28))))))]\n",
            "SORTED RDD: [((), (datetime.datetime(2022, 1, 1, 0, 5, 29), datetime.datetime(2022, 1, 1, 0, 0, 44), Data(obj=(datetime.datetime(2022, 1, 1, 0, 5, 29), datetime.datetime(2022, 1, 1, 0, 0, 44))))), ((), (datetime.datetime(2022, 1, 1, 0, 8, 54), datetime.datetime(2022, 1, 1, 0, 0, 44), Data(obj=(datetime.datetime(2022, 1, 1, 0, 8, 54), datetime.datetime(2022, 1, 1, 0, 0, 44))))), ((), (datetime.datetime(2022, 1, 1, 0, 8, 54), datetime.datetime(2022, 1, 1, 0, 0, 44), Query(obj=(datetime.datetime(2022, 1, 1, 0, 8, 54), datetime.datetime(2022, 1, 1, 0, 0, 44))))), ((), (datetime.datetime(2022, 1, 1, 0, 8, 58), datetime.datetime(2022, 1, 1, 0, 6, 10), Data(obj=(datetime.datetime(2022, 1, 1, 0, 8, 58), datetime.datetime(2022, 1, 1, 0, 6, 10))))), ((), (datetime.datetime(2022, 1, 1, 0, 14, 17), datetime.datetime(2022, 1, 1, 0, 6, 28), Data(obj=(datetime.datetime(2022, 1, 1, 0, 14, 17), datetime.datetime(2022, 1, 1, 0, 6, 28)))))]\n",
            "PREFIX SUMS: [0, 16, 29, 45, 64, 78, 95]\n",
            "RANKED RDD: [(0, ((), (datetime.datetime(2022, 1, 1, 0, 5, 29), datetime.datetime(2022, 1, 1, 0, 0, 44), Data(obj=(datetime.datetime(2022, 1, 1, 0, 5, 29), datetime.datetime(2022, 1, 1, 0, 0, 44)))))), (1, ((), (datetime.datetime(2022, 1, 1, 0, 8, 54), datetime.datetime(2022, 1, 1, 0, 0, 44), Data(obj=(datetime.datetime(2022, 1, 1, 0, 8, 54), datetime.datetime(2022, 1, 1, 0, 0, 44)))))), (2, ((), (datetime.datetime(2022, 1, 1, 0, 8, 54), datetime.datetime(2022, 1, 1, 0, 0, 44), Query(obj=(datetime.datetime(2022, 1, 1, 0, 8, 54), datetime.datetime(2022, 1, 1, 0, 0, 44)))))), (3, ((), (datetime.datetime(2022, 1, 1, 0, 8, 58), datetime.datetime(2022, 1, 1, 0, 6, 10), Data(obj=(datetime.datetime(2022, 1, 1, 0, 8, 58), datetime.datetime(2022, 1, 1, 0, 6, 10)))))), (4, ((), (datetime.datetime(2022, 1, 1, 0, 14, 17), datetime.datetime(2022, 1, 1, 0, 6, 28), Data(obj=(datetime.datetime(2022, 1, 1, 0, 14, 17), datetime.datetime(2022, 1, 1, 0, 6, 28))))))]\n",
            "PERFECTLY BALANCED: [([0], 19), ([1], 19), ([2], 19), ([3], 19), ([4], 19), ([5], 19), ([6], 19)]\n",
            "N: 133\n",
            "TREE_HEIGHT: 8\n",
            "Label first rdd, count: ([(('',), (datetime.datetime(2022, 1, 1, 0, 0, 44), Data(obj=(datetime.datetime(2022, 1, 1, 0, 5, 29), datetime.datetime(2022, 1, 1, 0, 0, 44))))), (('0',), (datetime.datetime(2022, 1, 1, 0, 0, 44), Data(obj=(datetime.datetime(2022, 1, 1, 0, 5, 29), datetime.datetime(2022, 1, 1, 0, 0, 44))))), (('00',), (datetime.datetime(2022, 1, 1, 0, 0, 44), Data(obj=(datetime.datetime(2022, 1, 1, 0, 5, 29), datetime.datetime(2022, 1, 1, 0, 0, 44))))), (('000',), (datetime.datetime(2022, 1, 1, 0, 0, 44), Data(obj=(datetime.datetime(2022, 1, 1, 0, 5, 29), datetime.datetime(2022, 1, 1, 0, 0, 44))))), (('0000',), (datetime.datetime(2022, 1, 1, 0, 0, 44), Data(obj=(datetime.datetime(2022, 1, 1, 0, 5, 29), datetime.datetime(2022, 1, 1, 0, 0, 44)))))], 539)\n",
            "RDD containing 539 rows.\n",
            "N: 539\n",
            "T: 7\n",
            "M: 77.0\n",
            "57.64938003975018\n",
            "P: 0.1069561781813547\n",
            "Boundaries: [(('',), datetime.datetime(2022, 1, 1, 0, 41, 32), 0), (('0',), datetime.datetime(2022, 1, 1, 0, 13, 17), 0), (('0',), datetime.datetime(2022, 1, 1, 0, 33, 50), 1), (('00011',), datetime.datetime(2022, 1, 1, 0, 27, 30), 1), (('01',), datetime.datetime(2022, 1, 1, 0, 46, 41), 0), (('010001',), datetime.datetime(2022, 1, 1, 0, 47, 55), 0), (('0110',), datetime.datetime(2022, 1, 1, 0, 56, 34), 1)]\n",
            "RDD ORG: [(('',), (datetime.datetime(2022, 1, 1, 0, 0, 44), Data(obj=(datetime.datetime(2022, 1, 1, 0, 5, 29), datetime.datetime(2022, 1, 1, 0, 0, 44))))), (('0',), (datetime.datetime(2022, 1, 1, 0, 0, 44), Data(obj=(datetime.datetime(2022, 1, 1, 0, 5, 29), datetime.datetime(2022, 1, 1, 0, 0, 44))))), (('00',), (datetime.datetime(2022, 1, 1, 0, 0, 44), Data(obj=(datetime.datetime(2022, 1, 1, 0, 5, 29), datetime.datetime(2022, 1, 1, 0, 0, 44))))), (('000',), (datetime.datetime(2022, 1, 1, 0, 0, 44), Data(obj=(datetime.datetime(2022, 1, 1, 0, 5, 29), datetime.datetime(2022, 1, 1, 0, 0, 44))))), (('0000',), (datetime.datetime(2022, 1, 1, 0, 0, 44), Data(obj=(datetime.datetime(2022, 1, 1, 0, 5, 29), datetime.datetime(2022, 1, 1, 0, 0, 44)))))]\n",
            "SHUFFLED RDD: [(0, (('',), (datetime.datetime(2022, 1, 1, 0, 0, 44), Data(obj=(datetime.datetime(2022, 1, 1, 0, 5, 29), datetime.datetime(2022, 1, 1, 0, 0, 44)))))), (0, (('',), (datetime.datetime(2022, 1, 1, 0, 0, 44), Data(obj=(datetime.datetime(2022, 1, 1, 0, 8, 54), datetime.datetime(2022, 1, 1, 0, 0, 44)))))), (0, (('',), (datetime.datetime(2022, 1, 1, 0, 6, 10), Data(obj=(datetime.datetime(2022, 1, 1, 0, 8, 58), datetime.datetime(2022, 1, 1, 0, 6, 10)))))), (0, (('',), (datetime.datetime(2022, 1, 1, 0, 6, 28), Data(obj=(datetime.datetime(2022, 1, 1, 0, 14, 17), datetime.datetime(2022, 1, 1, 0, 6, 28)))))), (0, (('',), (datetime.datetime(2022, 1, 1, 0, 9, 28), Data(obj=(datetime.datetime(2022, 1, 1, 0, 14, 42), datetime.datetime(2022, 1, 1, 0, 9, 28))))))]\n",
            "SORTED RDD: [(('',), (datetime.datetime(2022, 1, 1, 0, 0, 44), Data(obj=(datetime.datetime(2022, 1, 1, 0, 5, 29), datetime.datetime(2022, 1, 1, 0, 0, 44))))), (('',), (datetime.datetime(2022, 1, 1, 0, 0, 44), Data(obj=(datetime.datetime(2022, 1, 1, 0, 8, 54), datetime.datetime(2022, 1, 1, 0, 0, 44))))), (('',), (datetime.datetime(2022, 1, 1, 0, 5, 26), Data(obj=(datetime.datetime(2022, 1, 1, 0, 29, 5), datetime.datetime(2022, 1, 1, 0, 5, 26))))), (('',), (datetime.datetime(2022, 1, 1, 0, 5, 57), Data(obj=(datetime.datetime(2022, 1, 1, 0, 32, 31), datetime.datetime(2022, 1, 1, 0, 5, 57))))), (('',), (datetime.datetime(2022, 1, 1, 0, 6, 10), Data(obj=(datetime.datetime(2022, 1, 1, 0, 8, 58), datetime.datetime(2022, 1, 1, 0, 6, 10)))))]\n",
            "PREFIX SUMS: [0, 62, 113, 144, 271, 366, 411]\n",
            "RANKED RDD: [(0, (('',), (datetime.datetime(2022, 1, 1, 0, 0, 44), Data(obj=(datetime.datetime(2022, 1, 1, 0, 5, 29), datetime.datetime(2022, 1, 1, 0, 0, 44)))))), (1, (('',), (datetime.datetime(2022, 1, 1, 0, 0, 44), Data(obj=(datetime.datetime(2022, 1, 1, 0, 8, 54), datetime.datetime(2022, 1, 1, 0, 0, 44)))))), (2, (('',), (datetime.datetime(2022, 1, 1, 0, 5, 26), Data(obj=(datetime.datetime(2022, 1, 1, 0, 29, 5), datetime.datetime(2022, 1, 1, 0, 5, 26)))))), (3, (('',), (datetime.datetime(2022, 1, 1, 0, 5, 57), Data(obj=(datetime.datetime(2022, 1, 1, 0, 32, 31), datetime.datetime(2022, 1, 1, 0, 5, 57)))))), (4, (('',), (datetime.datetime(2022, 1, 1, 0, 6, 10), Data(obj=(datetime.datetime(2022, 1, 1, 0, 8, 58), datetime.datetime(2022, 1, 1, 0, 6, 10))))))]\n",
            "PERFECTLY BALANCED: [([0], 77), ([1], 77), ([2], 77), ([3], 77), ([4], 77), ([5], 77), ([6], 77)]\n",
            "Label first sorted rdd with rank, count: ([(0, (('',), (datetime.datetime(2022, 1, 1, 0, 0, 44), Data(obj=(datetime.datetime(2022, 1, 1, 0, 5, 29), datetime.datetime(2022, 1, 1, 0, 0, 44)))))), (1, (('',), (datetime.datetime(2022, 1, 1, 0, 0, 44), Data(obj=(datetime.datetime(2022, 1, 1, 0, 8, 54), datetime.datetime(2022, 1, 1, 0, 0, 44)))))), (2, (('',), (datetime.datetime(2022, 1, 1, 0, 5, 26), Data(obj=(datetime.datetime(2022, 1, 1, 0, 29, 5), datetime.datetime(2022, 1, 1, 0, 5, 26)))))), (3, (('',), (datetime.datetime(2022, 1, 1, 0, 5, 57), Data(obj=(datetime.datetime(2022, 1, 1, 0, 32, 31), datetime.datetime(2022, 1, 1, 0, 5, 57)))))), (4, (('',), (datetime.datetime(2022, 1, 1, 0, 6, 10), Data(obj=(datetime.datetime(2022, 1, 1, 0, 8, 58), datetime.datetime(2022, 1, 1, 0, 6, 10))))))], 539)\n",
            "Last label counts: [(('',), 0, 77), (('0',), 1, 48), (('000001',), 2, 2), (('0010001',), 3, 1), (('010',), 4, 1), (('011',), 5, 4), (('0111111',), 6, 1)]\n"
          ]
        },
        {
          "output_type": "execute_result",
          "data": {
            "text/plain": [
              "[((datetime.datetime(2022, 1, 1, 1, 2, 50),\n",
              "   datetime.datetime(2022, 1, 1, 0, 40, 18)),\n",
              "  55),\n",
              " ((datetime.datetime(2022, 1, 1, 0, 38, 11),\n",
              "   datetime.datetime(2022, 1, 1, 0, 30, 6)),\n",
              "  30),\n",
              " ((datetime.datetime(2022, 1, 1, 0, 47, 36),\n",
              "   datetime.datetime(2022, 1, 1, 0, 39, 46)),\n",
              "  45),\n",
              " ((datetime.datetime(2022, 1, 1, 0, 44, 46),\n",
              "   datetime.datetime(2022, 1, 1, 0, 41, 7)),\n",
              "  39),\n",
              " ((datetime.datetime(2022, 1, 1, 0, 52, 56),\n",
              "   datetime.datetime(2022, 1, 1, 0, 47, 55)),\n",
              "  54),\n",
              " ((datetime.datetime(2022, 1, 1, 0, 52, 51),\n",
              "   datetime.datetime(2022, 1, 1, 0, 37, 15)),\n",
              "  47),\n",
              " ((datetime.datetime(2022, 1, 1, 1, 29, 25),\n",
              "   datetime.datetime(2022, 1, 1, 1, 6, 32)),\n",
              "  97),\n",
              " ((datetime.datetime(2022, 1, 1, 0, 53, 29),\n",
              "   datetime.datetime(2022, 1, 1, 0, 35, 40)),\n",
              "  46),\n",
              " ((datetime.datetime(2022, 1, 1, 0, 39, 38),\n",
              "   datetime.datetime(2022, 1, 1, 0, 32, 27)),\n",
              "  34),\n",
              " ((datetime.datetime(2022, 1, 1, 0, 32, 51),\n",
              "   datetime.datetime(2022, 1, 1, 0, 27, 30)),\n",
              "  23),\n",
              " ((datetime.datetime(2022, 1, 1, 1, 12, 8),\n",
              "   datetime.datetime(2022, 1, 1, 0, 40, 57)),\n",
              "  59),\n",
              " ((datetime.datetime(2022, 1, 1, 1, 29, 35),\n",
              "   datetime.datetime(2022, 1, 1, 0, 57, 37)),\n",
              "  92),\n",
              " ((datetime.datetime(2022, 1, 1, 0, 58, 26),\n",
              "   datetime.datetime(2022, 1, 1, 0, 31, 6)),\n",
              "  39),\n",
              " ((datetime.datetime(2022, 1, 1, 0, 52, 14),\n",
              "   datetime.datetime(2022, 1, 1, 0, 33, 50)),\n",
              "  43),\n",
              " ((datetime.datetime(2022, 1, 1, 0, 35, 23),\n",
              "   datetime.datetime(2022, 1, 1, 0, 25, 21)),\n",
              "  24),\n",
              " ((datetime.datetime(2022, 1, 1, 0, 27, 45),\n",
              "   datetime.datetime(2022, 1, 1, 0, 17, 55)),\n",
              "  13),\n",
              " ((datetime.datetime(2022, 1, 1, 1, 14, 20),\n",
              "   datetime.datetime(2022, 1, 1, 0, 36, 48)),\n",
              "  53),\n",
              " ((datetime.datetime(2022, 1, 1, 1, 15, 22),\n",
              "   datetime.datetime(2022, 1, 1, 0, 46, 19)),\n",
              "  69),\n",
              " ((datetime.datetime(2022, 1, 1, 0, 58, 25),\n",
              "   datetime.datetime(2022, 1, 1, 0, 51, 26)),\n",
              "  63),\n",
              " ((datetime.datetime(2022, 1, 1, 0, 34, 58),\n",
              "   datetime.datetime(2022, 1, 1, 0, 20, 50)),\n",
              "  19),\n",
              " ((datetime.datetime(2022, 1, 1, 0, 32, 31),\n",
              "   datetime.datetime(2022, 1, 1, 0, 5, 57)),\n",
              "  4),\n",
              " ((datetime.datetime(2022, 1, 1, 0, 8, 54),\n",
              "   datetime.datetime(2022, 1, 1, 0, 0, 44)),\n",
              "  2),\n",
              " ((datetime.datetime(2022, 1, 1, 0, 46, 45),\n",
              "   datetime.datetime(2022, 1, 1, 0, 30, 35)),\n",
              "  36),\n",
              " ((datetime.datetime(2022, 1, 1, 0, 22, 47),\n",
              "   datetime.datetime(2022, 1, 1, 0, 12)),\n",
              "  7),\n",
              " ((datetime.datetime(2022, 1, 1, 0, 14, 42),\n",
              "   datetime.datetime(2022, 1, 1, 0, 9, 28)),\n",
              "  5),\n",
              " ((datetime.datetime(2022, 1, 1, 1, 4, 25),\n",
              "   datetime.datetime(2022, 1, 1, 0, 55, 3)),\n",
              "  75),\n",
              " ((datetime.datetime(2022, 1, 1, 1, 12, 4),\n",
              "   datetime.datetime(2022, 1, 1, 0, 56, 34)),\n",
              "  86)]"
            ]
          },
          "metadata": {},
          "execution_count": 152
        }
      ]
    },
    {
      "cell_type": "markdown",
      "source": [
        "### Testing"
      ],
      "metadata": {
        "id": "Bld0pRNLx8QH"
      }
    },
    {
      "cell_type": "code",
      "source": [
        "data = [(x, y, Data((x, y))) for x in range(100) for y in range(100)]"
      ],
      "metadata": {
        "id": "HtbGO0p4xWzi"
      },
      "execution_count": 155,
      "outputs": []
    },
    {
      "cell_type": "code",
      "source": [
        "test = data + [(100, 100, Query((100, 100)))]\n",
        "test_rdd = sc.parallelize(test).map(add_label_placeholder)\n",
        "result_rdd = all_in_one_place(test_rdd)\n",
        "result_rdd.collect()"
      ],
      "metadata": {
        "colab": {
          "base_uri": "https://localhost:8080/"
        },
        "id": "f9_tJK66yciD",
        "outputId": "defe44d9-1ec6-43d7-9be7-de99d57a7b47"
      },
      "execution_count": 158,
      "outputs": [
        {
          "output_type": "stream",
          "name": "stdout",
          "text": [
            "RDD containing 10001 rows.\n",
            "Adding 2 dummy rows\n",
            "N: 10003\n",
            "T: 7\n",
            "M: 1429.0\n",
            "78.09585333228345\n",
            "P: 0.007807243160280261\n",
            "Boundaries: [((), 8, 0), ((), 35, 0), ((), 37, 0), ((), 46, 0), ((), 53, 0), ((), 63, 0), ((), 88, 0)]\n",
            "RDD ORG: [((), (0, 40, Data(obj=(0, 40)))), ((), (0, 41, Data(obj=(0, 41)))), ((), (0, 42, Data(obj=(0, 42)))), ((), (0, 43, Data(obj=(0, 43)))), ((), (0, 44, Data(obj=(0, 44))))]\n",
            "SHUFFLED RDD: [(0, ((), (0, 40, Data(obj=(0, 40))))), (0, ((), (0, 41, Data(obj=(0, 41))))), (0, ((), (0, 42, Data(obj=(0, 42))))), (0, ((), (0, 43, Data(obj=(0, 43))))), (0, ((), (0, 44, Data(obj=(0, 44)))))]\n",
            "SORTED RDD: [((), (0, 40, Data(obj=(0, 40)))), ((), (0, 41, Data(obj=(0, 41)))), ((), (0, 42, Data(obj=(0, 42)))), ((), (0, 43, Data(obj=(0, 43)))), ((), (0, 44, Data(obj=(0, 44))))]\n",
            "PREFIX SUMS: [0, 800, 3500, 3700, 4600, 5300, 6300]\n",
            "RANKED RDD: [(0, ((), (0, 40, Data(obj=(0, 40))))), (1, ((), (0, 41, Data(obj=(0, 41))))), (2, ((), (0, 42, Data(obj=(0, 42))))), (3, ((), (0, 43, Data(obj=(0, 43))))), (4, ((), (0, 44, Data(obj=(0, 44)))))]\n",
            "PERFECTLY BALANCED: [([0], 1429), ([1], 1429), ([2], 1429), ([3], 1429), ([4], 1429), ([5], 1429), ([6], 1429)]\n",
            "N: 10003\n",
            "TREE_HEIGHT: 14\n",
            "Label first rdd, count: ([(('',), (40, Data(obj=(0, 40)))), (('0',), (40, Data(obj=(0, 40)))), (('00',), (40, Data(obj=(0, 40)))), (('000',), (40, Data(obj=(0, 40)))), (('0000',), (40, Data(obj=(0, 40))))], 75397)\n",
            "RDD containing 75397 rows.\n",
            "N: 75397\n",
            "T: 7\n",
            "M: 10771.0\n",
            "92.23503040122978\n",
            "P: 0.0012233249386743475\n",
            "Boundaries: [(('00',), 41, 0), (('0001',), 92, 0), (('0010101100111',), 36, 0), (('01',), 46, 0), (('0101111001101',), 72, 0), (('0111010010000',), 16, 0), (('100000100100',), 77, 0)]\n",
            "RDD ORG: [(('',), (40, Data(obj=(0, 40)))), (('0',), (40, Data(obj=(0, 40)))), (('00',), (40, Data(obj=(0, 40)))), (('000',), (40, Data(obj=(0, 40)))), (('0000',), (40, Data(obj=(0, 40))))]\n",
            "SHUFFLED RDD: [(0, (('',), (40, Data(obj=(0, 40))))), (0, (('0',), (40, Data(obj=(0, 40))))), (0, (('00',), (40, Data(obj=(0, 40))))), (0, (('',), (41, Data(obj=(0, 41))))), (0, (('0',), (41, Data(obj=(0, 41)))))]\n",
            "SORTED RDD: [(('',), (0, Data(obj=(0, 0)))), (('',), (0, Data(obj=(1, 0)))), (('',), (0, Data(obj=(2, 0)))), (('',), (0, Data(obj=(3, 0)))), (('',), (0, Data(obj=(4, 0))))]\n",
            "PREFIX SUMS: [0, 13137, 20957, 30608, 37809, 49900, 58447]\n",
            "RANKED RDD: [(0, (('',), (0, Data(obj=(0, 0))))), (1, (('',), (0, Data(obj=(1, 0))))), (2, (('',), (0, Data(obj=(2, 0))))), (3, (('',), (0, Data(obj=(3, 0))))), (4, (('',), (0, Data(obj=(4, 0)))))]\n",
            "PERFECTLY BALANCED: [([0], 10771), ([1], 10771), ([2], 10771), ([3], 10771), ([4], 10771), ([5], 10771), ([6], 10771)]\n",
            "Label first sorted rdd with rank, count: ([(0, (('',), (0, Data(obj=(0, 0))))), (1, (('',), (0, Data(obj=(1, 0))))), (2, (('',), (0, Data(obj=(2, 0))))), (3, (('',), (0, Data(obj=(3, 0))))), (4, (('',), (0, Data(obj=(4, 0)))))], 75397)\n",
            "Last label counts: [(('0',), 0, 2578), (('00010000011',), 1, 1), (('00110',), 2, 56), (('010010',), 3, 75), (('01100111',), 4, 30), (('10',), 5, 1377), (('1001110000111',), 6, 1)]\n"
          ]
        },
        {
          "output_type": "execute_result",
          "data": {
            "text/plain": [
              "[((100, 100), 10000)]"
            ]
          },
          "metadata": {},
          "execution_count": 158
        }
      ]
    },
    {
      "cell_type": "code",
      "source": [
        "test = data + [(x, y, Query((x, y))) for x in range(0, 101, 10) for y in range(0, 101, 10)]\n",
        "test_rdd = sc.parallelize(test).map(add_label_placeholder)\n",
        "result_rdd = all_in_one_place(test_rdd)\n",
        "result_rdd.collect()"
      ],
      "metadata": {
        "colab": {
          "base_uri": "https://localhost:8080/"
        },
        "id": "mVABEvjTzCgG",
        "outputId": "0631597a-cd6c-454e-b319-53ee323ef09f"
      },
      "execution_count": 163,
      "outputs": [
        {
          "output_type": "stream",
          "name": "stdout",
          "text": [
            "RDD containing 10121 rows.\n",
            "Adding 1 dummy rows\n",
            "N: 10122\n",
            "T: 7\n",
            "M: 1446.0\n",
            "78.17863690580535\n",
            "P: 0.0077236353394393754\n",
            "Boundaries: [((), 8, 0), ((), 13, 0), ((), 37, 0), ((), 43, 0), ((), 53, 0), ((), 64, 0), ((), 88, 0)]\n",
            "RDD ORG: [((), (0, 40, Data(obj=(0, 40)))), ((), (0, 41, Data(obj=(0, 41)))), ((), (0, 42, Data(obj=(0, 42)))), ((), (0, 43, Data(obj=(0, 43)))), ((), (0, 44, Data(obj=(0, 44))))]\n",
            "SHUFFLED RDD: [(0, ((), (0, 40, Data(obj=(0, 40))))), (0, ((), (0, 41, Data(obj=(0, 41))))), (0, ((), (0, 42, Data(obj=(0, 42))))), (0, ((), (0, 43, Data(obj=(0, 43))))), (0, ((), (0, 44, Data(obj=(0, 44)))))]\n",
            "SORTED RDD: [((), (0, 40, Data(obj=(0, 40)))), ((), (0, 41, Data(obj=(0, 41)))), ((), (0, 42, Data(obj=(0, 42)))), ((), (0, 43, Data(obj=(0, 43)))), ((), (0, 44, Data(obj=(0, 44))))]\n",
            "PREFIX SUMS: [0, 811, 1322, 3744, 4355, 5366, 6477]\n",
            "RANKED RDD: [(0, ((), (0, 40, Data(obj=(0, 40))))), (1, ((), (0, 41, Data(obj=(0, 41))))), (2, ((), (0, 42, Data(obj=(0, 42))))), (3, ((), (0, 43, Data(obj=(0, 43))))), (4, ((), (0, 44, Data(obj=(0, 44)))))]\n",
            "PERFECTLY BALANCED: [([0], 1446), ([1], 1446), ([2], 1446), ([3], 1446), ([4], 1446), ([5], 1446), ([6], 1446)]\n",
            "N: 10122\n",
            "TREE_HEIGHT: 14\n",
            "Label first rdd, count: ([(('',), (40, Data(obj=(0, 40)))), (('0',), (40, Data(obj=(0, 40)))), (('00',), (40, Data(obj=(0, 40)))), (('000',), (40, Data(obj=(0, 40)))), (('0000',), (40, Data(obj=(0, 40))))], 75814)\n",
            "RDD containing 75814 rows.\n",
            "Adding 3 dummy rows\n",
            "N: 75817\n",
            "T: 7\n",
            "M: 10831.0\n",
            "92.27391578962455\n",
            "P: 0.0012170610257544424\n",
            "Boundaries: [(('0',), 37, 0), (('0001101',), 34, 0), (('010011',), 86, 0), (('011',), 10, 0), (('011001',), 7, 0), (('01101101',), 70, 0), (('100110111000',), 52, 0)]\n",
            "RDD ORG: [(('',), (43, Data(obj=(0, 43)))), (('0',), (43, Data(obj=(0, 43)))), (('00',), (43, Data(obj=(0, 43)))), (('000',), (43, Data(obj=(0, 43)))), (('0000',), (43, Data(obj=(0, 43))))]\n",
            "SHUFFLED RDD: [(0, (('',), (43, Data(obj=(0, 43))))), (0, (('',), (49, Data(obj=(0, 49))))), (0, (('',), (55, Data(obj=(0, 55))))), (0, (('',), (61, Data(obj=(0, 61))))), (0, (('',), (68, Data(obj=(0, 68)))))]\n",
            "SORTED RDD: [(('',), (0, Data(obj=(3, 0)))), (('',), (0, Data(obj=(8, 0)))), (('',), (0, Data(obj=(18, 0)))), (('',), (0, Data(obj=(27, 0)))), (('',), (0, Data(obj=(28, 0))))]\n",
            "PREFIX SUMS: [0, 9646, 24061, 43951, 50041, 52735, 55439]\n",
            "RANKED RDD: [(0, (('',), (0, Data(obj=(3, 0))))), (1, (('',), (0, Data(obj=(8, 0))))), (2, (('',), (0, Data(obj=(18, 0))))), (3, (('',), (0, Data(obj=(27, 0))))), (4, (('',), (0, Data(obj=(28, 0)))))]\n",
            "PERFECTLY BALANCED: [([0], 10831), ([1], 10831), ([2], 10831), ([3], 10831), ([4], 10831), ([5], 10831), ([6], 10831)]\n",
            "Label first sorted rdd with rank, count: ([(0, (('',), (0, Data(obj=(3, 0))))), (1, (('',), (0, Data(obj=(8, 0))))), (2, (('',), (0, Data(obj=(18, 0))))), (3, (('',), (0, Data(obj=(27, 0))))), (4, (('',), (0, Data(obj=(28, 0)))))], 75817)\n",
            "Last label counts: [(('0',), 0, 2670), (('000100011',), 1, 5), (('0011000',), 2, 15), (('010010011',), 3, 15), (('0110100',), 4, 26), (('100',), 5, 40), ((), 6, 0)]\n"
          ]
        },
        {
          "output_type": "execute_result",
          "data": {
            "text/plain": [
              "[((100, 30), 3100),\n",
              " ((100, 50), 5100),\n",
              " ((80, 60), 4941),\n",
              " ((80, 70), 5751),\n",
              " ((90, 70), 6461),\n",
              " ((100, 70), 7100),\n",
              " ((80, 80), 6561),\n",
              " ((90, 80), 7371),\n",
              " ((80, 90), 7371),\n",
              " ((90, 90), 8281),\n",
              " ((30, 20), 651),\n",
              " ((20, 20), 441),\n",
              " ((30, 30), 961),\n",
              " ((20, 40), 861),\n",
              " ((0, 20), 21),\n",
              " ((0, 30), 31),\n",
              " ((0, 50), 51),\n",
              " ((0, 100), 100),\n",
              " ((50, 90), 4641),\n",
              " ((70, 100), 7100),\n",
              " ((40, 0), 41),\n",
              " ((50, 60), 3111),\n",
              " ((100, 40), 4100),\n",
              " ((80, 100), 8100),\n",
              " ((20, 0), 21),\n",
              " ((20, 30), 651),\n",
              " ((30, 40), 1271),\n",
              " ((20, 50), 1071),\n",
              " ((30, 70), 2201),\n",
              " ((10, 40), 451),\n",
              " ((0, 60), 61),\n",
              " ((0, 80), 81),\n",
              " ((0, 90), 91),\n",
              " ((50, 80), 4131),\n",
              " ((60, 100), 6100),\n",
              " ((40, 10), 451),\n",
              " ((70, 10), 781),\n",
              " ((40, 20), 861),\n",
              " ((50, 30), 1581),\n",
              " ((40, 50), 2091),\n",
              " ((60, 60), 3721),\n",
              " ((100, 0), 100),\n",
              " ((90, 20), 1911),\n",
              " ((90, 30), 2821),\n",
              " ((90, 100), 9100),\n",
              " ((20, 10), 231),\n",
              " ((30, 60), 1891),\n",
              " ((30, 80), 2511),\n",
              " ((30, 90), 2821),\n",
              " ((10, 0), 11),\n",
              " ((10, 10), 121),\n",
              " ((60, 80), 4941),\n",
              " ((60, 90), 5551),\n",
              " ((50, 100), 5100),\n",
              " ((70, 0), 71),\n",
              " ((50, 20), 1071),\n",
              " ((40, 30), 1271),\n",
              " ((70, 30), 2201),\n",
              " ((40, 40), 1681),\n",
              " ((60, 40), 2501),\n",
              " ((50, 50), 2601),\n",
              " ((70, 50), 3621),\n",
              " ((90, 0), 91),\n",
              " ((90, 10), 1001),\n",
              " ((100, 10), 1100),\n",
              " ((30, 100), 3100),\n",
              " ((60, 70), 4331),\n",
              " ((40, 70), 2911),\n",
              " ((50, 70), 3621),\n",
              " ((40, 80), 3321),\n",
              " ((70, 20), 1491),\n",
              " ((60, 20), 1281),\n",
              " ((60, 30), 1891),\n",
              " ((50, 40), 2091),\n",
              " ((70, 40), 2911),\n",
              " ((40, 60), 2501),\n",
              " ((90, 60), 5551),\n",
              " ((100, 80), 8100),\n",
              " ((20, 100), 2100),\n",
              " ((10, 80), 891),\n",
              " ((10, 90), 1001),\n",
              " ((0, 0), 1),\n",
              " ((0, 10), 11),\n",
              " ((40, 90), 3731),\n",
              " ((40, 100), 4100),\n",
              " ((60, 0), 61),\n",
              " ((80, 0), 81),\n",
              " ((50, 10), 561),\n",
              " ((60, 10), 671),\n",
              " ((80, 10), 891),\n",
              " ((60, 50), 3111),\n",
              " ((70, 60), 4331),\n",
              " ((90, 40), 3731),\n",
              " ((90, 50), 4641),\n",
              " ((100, 60), 6100),\n",
              " ((100, 90), 9100),\n",
              " ((100, 100), 10000),\n",
              " ((20, 80), 1701),\n",
              " ((10, 60), 671),\n",
              " ((10, 100), 1100),\n",
              " ((0, 40), 41),\n",
              " ((70, 70), 5041),\n",
              " ((70, 90), 6461),\n",
              " ((50, 0), 51),\n",
              " ((80, 20), 1701),\n",
              " ((80, 30), 2511),\n",
              " ((100, 20), 2100),\n",
              " ((80, 40), 3321),\n",
              " ((80, 50), 4131),\n",
              " ((30, 0), 31),\n",
              " ((30, 10), 341),\n",
              " ((30, 50), 1581),\n",
              " ((20, 60), 1281),\n",
              " ((20, 70), 1491),\n",
              " ((20, 90), 1911),\n",
              " ((10, 20), 231),\n",
              " ((10, 30), 341),\n",
              " ((10, 50), 561),\n",
              " ((10, 70), 781),\n",
              " ((0, 70), 71),\n",
              " ((70, 80), 5751)]"
            ]
          },
          "metadata": {},
          "execution_count": 163
        }
      ]
    }
  ],
  "metadata": {
    "colab": {
      "provenance": [],
      "toc_visible": true
    },
    "kernelspec": {
      "display_name": "Python 3",
      "name": "python3"
    },
    "language_info": {
      "name": "python"
    }
  },
  "nbformat": 4,
  "nbformat_minor": 0
}